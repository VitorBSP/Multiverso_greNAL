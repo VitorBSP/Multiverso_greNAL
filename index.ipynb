{
  "cells": [
    {
      "cell_type": "raw",
      "id": "2e0bfa56",
      "metadata": {},
      "source": [
        "---\n",
        "title: \"Multiverso GreNal\"\n",
        "format:\n",
        "  revealjs: \n",
        "    theme: beige\n",
        "    transition: fade\n",
        "    \n",
        "---"
      ]
    },
    {
      "cell_type": "code",
      "execution_count": 1,
      "id": "b1e4c235",
      "metadata": {},
      "outputs": [
        {
          "ename": "FileNotFoundError",
          "evalue": "[Errno 2] No such file or directory: '/datas/times_gauchos_tratado.csv'",
          "output_type": "error",
          "traceback": [
            "\u001b[1;31m---------------------------------------------------------------------------\u001b[0m",
            "\u001b[1;31mFileNotFoundError\u001b[0m                         Traceback (most recent call last)",
            "\u001b[1;32mc:\\Users\\vi-be\\repos\\Multiverso_greNAL\\index.ipynb Cell 2'\u001b[0m in \u001b[0;36m<cell line: 9>\u001b[1;34m()\u001b[0m\n\u001b[0;32m      <a href='vscode-notebook-cell:/c%3A/Users/vi-be/repos/Multiverso_greNAL/index.ipynb#ch0000001?line=6'>7</a>\u001b[0m \u001b[39mfrom\u001b[39;00m \u001b[39mmatplotlib\u001b[39;00m\u001b[39m.\u001b[39;00m\u001b[39mticker\u001b[39;00m \u001b[39mimport\u001b[39;00m FuncFormatter\n\u001b[0;32m      <a href='vscode-notebook-cell:/c%3A/Users/vi-be/repos/Multiverso_greNAL/index.ipynb#ch0000001?line=7'>8</a>\u001b[0m formatter \u001b[39m=\u001b[39m FuncFormatter(\u001b[39mlambda\u001b[39;00m y, pos: \u001b[39m\"\u001b[39m\u001b[39m%d\u001b[39;00m\u001b[39m%%\u001b[39;00m\u001b[39m\"\u001b[39m \u001b[39m%\u001b[39m (y))\n\u001b[1;32m----> <a href='vscode-notebook-cell:/c%3A/Users/vi-be/repos/Multiverso_greNAL/index.ipynb#ch0000001?line=8'>9</a>\u001b[0m times \u001b[39m=\u001b[39m pd\u001b[39m.\u001b[39;49mread_csv(\u001b[39m'\u001b[39;49m\u001b[39m/datas/times_gauchos_tratado.csv\u001b[39;49m\u001b[39m'\u001b[39;49m, sep\u001b[39m=\u001b[39;49m\u001b[39m'\u001b[39;49m\u001b[39m,\u001b[39;49m\u001b[39m'\u001b[39;49m, \n\u001b[0;32m     <a href='vscode-notebook-cell:/c%3A/Users/vi-be/repos/Multiverso_greNAL/index.ipynb#ch0000001?line=9'>10</a>\u001b[0m                     dtype \u001b[39m=\u001b[39;49m ({\u001b[39m'\u001b[39;49m\u001b[39mApelido\u001b[39;49m\u001b[39m'\u001b[39;49m: \u001b[39m'\u001b[39;49m\u001b[39mcategory\u001b[39;49m\u001b[39m'\u001b[39;49m, \u001b[39m'\u001b[39;49m\u001b[39mNome\u001b[39;49m\u001b[39m'\u001b[39;49m : \u001b[39m'\u001b[39;49m\u001b[39mcategory\u001b[39;49m\u001b[39m'\u001b[39;49m, \u001b[39m'\u001b[39;49m\u001b[39mCidade\u001b[39;49m\u001b[39m'\u001b[39;49m: \u001b[39m'\u001b[39;49m\u001b[39mcategory\u001b[39;49m\u001b[39m'\u001b[39;49m}))\n\u001b[0;32m     <a href='vscode-notebook-cell:/c%3A/Users/vi-be/repos/Multiverso_greNAL/index.ipynb#ch0000001?line=10'>11</a>\u001b[0m campeonatos \u001b[39m=\u001b[39m pd\u001b[39m.\u001b[39mread_csv(\u001b[39m'\u001b[39m\u001b[39m../datas/campeonatos_gauchos_tratado.csv\u001b[39m\u001b[39m'\u001b[39m, sep\u001b[39m=\u001b[39m\u001b[39m'\u001b[39m\u001b[39m,\u001b[39m\u001b[39m'\u001b[39m, \n\u001b[0;32m     <a href='vscode-notebook-cell:/c%3A/Users/vi-be/repos/Multiverso_greNAL/index.ipynb#ch0000001?line=11'>12</a>\u001b[0m                             dtype\u001b[39m=\u001b[39m({\u001b[39m'\u001b[39m\u001b[39mEdicao\u001b[39m\u001b[39m'\u001b[39m: np\u001b[39m.\u001b[39muint8, \u001b[39m'\u001b[39m\u001b[39mAno\u001b[39m\u001b[39m'\u001b[39m : np\u001b[39m.\u001b[39muint16, \u001b[39m'\u001b[39m\u001b[39mArtilheiro\u001b[39m\u001b[39m'\u001b[39m : \u001b[39mobject\u001b[39m, \n\u001b[0;32m     <a href='vscode-notebook-cell:/c%3A/Users/vi-be/repos/Multiverso_greNAL/index.ipynb#ch0000001?line=12'>13</a>\u001b[0m                             \u001b[39m'\u001b[39m\u001b[39mPrimeiro\u001b[39m\u001b[39m'\u001b[39m : \u001b[39m'\u001b[39m\u001b[39mcategory\u001b[39m\u001b[39m'\u001b[39m , \u001b[39m'\u001b[39m\u001b[39mSegundo\u001b[39m\u001b[39m'\u001b[39m : \u001b[39m'\u001b[39m\u001b[39mcategory\u001b[39m\u001b[39m'\u001b[39m, \u001b[39m'\u001b[39m\u001b[39mTerceiro\u001b[39m\u001b[39m'\u001b[39m : \u001b[39m'\u001b[39m\u001b[39mcategory\u001b[39m\u001b[39m'\u001b[39m, \n\u001b[0;32m     <a href='vscode-notebook-cell:/c%3A/Users/vi-be/repos/Multiverso_greNAL/index.ipynb#ch0000001?line=13'>14</a>\u001b[0m                             \u001b[39m'\u001b[39m\u001b[39mQuarto\u001b[39m\u001b[39m'\u001b[39m : \u001b[39m'\u001b[39m\u001b[39mcategory\u001b[39m\u001b[39m'\u001b[39m, \u001b[39m'\u001b[39m\u001b[39mCidade_Primeiro\u001b[39m\u001b[39m'\u001b[39m : \u001b[39m'\u001b[39m\u001b[39mcategory\u001b[39m\u001b[39m'\u001b[39m , \n\u001b[0;32m     <a href='vscode-notebook-cell:/c%3A/Users/vi-be/repos/Multiverso_greNAL/index.ipynb#ch0000001?line=14'>15</a>\u001b[0m                             \u001b[39m'\u001b[39m\u001b[39mCidade_Segundo\u001b[39m\u001b[39m'\u001b[39m : \u001b[39m'\u001b[39m\u001b[39mcategory\u001b[39m\u001b[39m'\u001b[39m, \u001b[39m'\u001b[39m\u001b[39mCidade_Terceiro\u001b[39m\u001b[39m'\u001b[39m : \u001b[39m'\u001b[39m\u001b[39mcategory\u001b[39m\u001b[39m'\u001b[39m, \n\u001b[0;32m     <a href='vscode-notebook-cell:/c%3A/Users/vi-be/repos/Multiverso_greNAL/index.ipynb#ch0000001?line=15'>16</a>\u001b[0m                             \u001b[39m'\u001b[39m\u001b[39mCidade_Quarto\u001b[39m\u001b[39m'\u001b[39m : \u001b[39m'\u001b[39m\u001b[39mcategory\u001b[39m\u001b[39m'\u001b[39m, \u001b[39m'\u001b[39m\u001b[39mN_de_gols\u001b[39m\u001b[39m'\u001b[39m : \u001b[39m'\u001b[39m\u001b[39mInt8\u001b[39m\u001b[39m'\u001b[39m}))\n\u001b[0;32m     <a href='vscode-notebook-cell:/c%3A/Users/vi-be/repos/Multiverso_greNAL/index.ipynb#ch0000001?line=17'>18</a>\u001b[0m cidades \u001b[39m=\u001b[39m pd\u001b[39m.\u001b[39mread_csv(\u001b[39m'\u001b[39m\u001b[39m/datas/cidades_gauchas_tratado.csv\u001b[39m\u001b[39m'\u001b[39m, dtype\u001b[39m=\u001b[39m({\u001b[39m'\u001b[39m\u001b[39mCidade\u001b[39m\u001b[39m'\u001b[39m : \u001b[39m'\u001b[39m\u001b[39mcategory\u001b[39m\u001b[39m'\u001b[39m, \u001b[39m'\u001b[39m\u001b[39mMicrorregioes\u001b[39m\u001b[39m'\u001b[39m : \u001b[39m'\u001b[39m\u001b[39mcategory\u001b[39m\u001b[39m'\u001b[39m,\n\u001b[0;32m     <a href='vscode-notebook-cell:/c%3A/Users/vi-be/repos/Multiverso_greNAL/index.ipynb#ch0000001?line=18'>19</a>\u001b[0m                                                                 \u001b[39m'\u001b[39m\u001b[39mMesorregioes\u001b[39m\u001b[39m'\u001b[39m : \u001b[39m'\u001b[39m\u001b[39mcategory\u001b[39m\u001b[39m'\u001b[39m}))\n",
            "File \u001b[1;32mc:\\Users\\vi-be\\AppData\\Local\\Programs\\Python\\Python310\\lib\\site-packages\\pandas\\util\\_decorators.py:311\u001b[0m, in \u001b[0;36mdeprecate_nonkeyword_arguments.<locals>.decorate.<locals>.wrapper\u001b[1;34m(*args, **kwargs)\u001b[0m\n\u001b[0;32m    <a href='file:///c%3A/Users/vi-be/AppData/Local/Programs/Python/Python310/lib/site-packages/pandas/util/_decorators.py?line=304'>305</a>\u001b[0m \u001b[39mif\u001b[39;00m \u001b[39mlen\u001b[39m(args) \u001b[39m>\u001b[39m num_allow_args:\n\u001b[0;32m    <a href='file:///c%3A/Users/vi-be/AppData/Local/Programs/Python/Python310/lib/site-packages/pandas/util/_decorators.py?line=305'>306</a>\u001b[0m     warnings\u001b[39m.\u001b[39mwarn(\n\u001b[0;32m    <a href='file:///c%3A/Users/vi-be/AppData/Local/Programs/Python/Python310/lib/site-packages/pandas/util/_decorators.py?line=306'>307</a>\u001b[0m         msg\u001b[39m.\u001b[39mformat(arguments\u001b[39m=\u001b[39marguments),\n\u001b[0;32m    <a href='file:///c%3A/Users/vi-be/AppData/Local/Programs/Python/Python310/lib/site-packages/pandas/util/_decorators.py?line=307'>308</a>\u001b[0m         \u001b[39mFutureWarning\u001b[39;00m,\n\u001b[0;32m    <a href='file:///c%3A/Users/vi-be/AppData/Local/Programs/Python/Python310/lib/site-packages/pandas/util/_decorators.py?line=308'>309</a>\u001b[0m         stacklevel\u001b[39m=\u001b[39mstacklevel,\n\u001b[0;32m    <a href='file:///c%3A/Users/vi-be/AppData/Local/Programs/Python/Python310/lib/site-packages/pandas/util/_decorators.py?line=309'>310</a>\u001b[0m     )\n\u001b[1;32m--> <a href='file:///c%3A/Users/vi-be/AppData/Local/Programs/Python/Python310/lib/site-packages/pandas/util/_decorators.py?line=310'>311</a>\u001b[0m \u001b[39mreturn\u001b[39;00m func(\u001b[39m*\u001b[39margs, \u001b[39m*\u001b[39m\u001b[39m*\u001b[39mkwargs)\n",
            "File \u001b[1;32mc:\\Users\\vi-be\\AppData\\Local\\Programs\\Python\\Python310\\lib\\site-packages\\pandas\\io\\parsers\\readers.py:680\u001b[0m, in \u001b[0;36mread_csv\u001b[1;34m(filepath_or_buffer, sep, delimiter, header, names, index_col, usecols, squeeze, prefix, mangle_dupe_cols, dtype, engine, converters, true_values, false_values, skipinitialspace, skiprows, skipfooter, nrows, na_values, keep_default_na, na_filter, verbose, skip_blank_lines, parse_dates, infer_datetime_format, keep_date_col, date_parser, dayfirst, cache_dates, iterator, chunksize, compression, thousands, decimal, lineterminator, quotechar, quoting, doublequote, escapechar, comment, encoding, encoding_errors, dialect, error_bad_lines, warn_bad_lines, on_bad_lines, delim_whitespace, low_memory, memory_map, float_precision, storage_options)\u001b[0m\n\u001b[0;32m    <a href='file:///c%3A/Users/vi-be/AppData/Local/Programs/Python/Python310/lib/site-packages/pandas/io/parsers/readers.py?line=664'>665</a>\u001b[0m kwds_defaults \u001b[39m=\u001b[39m _refine_defaults_read(\n\u001b[0;32m    <a href='file:///c%3A/Users/vi-be/AppData/Local/Programs/Python/Python310/lib/site-packages/pandas/io/parsers/readers.py?line=665'>666</a>\u001b[0m     dialect,\n\u001b[0;32m    <a href='file:///c%3A/Users/vi-be/AppData/Local/Programs/Python/Python310/lib/site-packages/pandas/io/parsers/readers.py?line=666'>667</a>\u001b[0m     delimiter,\n\u001b[1;32m   (...)\u001b[0m\n\u001b[0;32m    <a href='file:///c%3A/Users/vi-be/AppData/Local/Programs/Python/Python310/lib/site-packages/pandas/io/parsers/readers.py?line=675'>676</a>\u001b[0m     defaults\u001b[39m=\u001b[39m{\u001b[39m\"\u001b[39m\u001b[39mdelimiter\u001b[39m\u001b[39m\"\u001b[39m: \u001b[39m\"\u001b[39m\u001b[39m,\u001b[39m\u001b[39m\"\u001b[39m},\n\u001b[0;32m    <a href='file:///c%3A/Users/vi-be/AppData/Local/Programs/Python/Python310/lib/site-packages/pandas/io/parsers/readers.py?line=676'>677</a>\u001b[0m )\n\u001b[0;32m    <a href='file:///c%3A/Users/vi-be/AppData/Local/Programs/Python/Python310/lib/site-packages/pandas/io/parsers/readers.py?line=677'>678</a>\u001b[0m kwds\u001b[39m.\u001b[39mupdate(kwds_defaults)\n\u001b[1;32m--> <a href='file:///c%3A/Users/vi-be/AppData/Local/Programs/Python/Python310/lib/site-packages/pandas/io/parsers/readers.py?line=679'>680</a>\u001b[0m \u001b[39mreturn\u001b[39;00m _read(filepath_or_buffer, kwds)\n",
            "File \u001b[1;32mc:\\Users\\vi-be\\AppData\\Local\\Programs\\Python\\Python310\\lib\\site-packages\\pandas\\io\\parsers\\readers.py:575\u001b[0m, in \u001b[0;36m_read\u001b[1;34m(filepath_or_buffer, kwds)\u001b[0m\n\u001b[0;32m    <a href='file:///c%3A/Users/vi-be/AppData/Local/Programs/Python/Python310/lib/site-packages/pandas/io/parsers/readers.py?line=571'>572</a>\u001b[0m _validate_names(kwds\u001b[39m.\u001b[39mget(\u001b[39m\"\u001b[39m\u001b[39mnames\u001b[39m\u001b[39m\"\u001b[39m, \u001b[39mNone\u001b[39;00m))\n\u001b[0;32m    <a href='file:///c%3A/Users/vi-be/AppData/Local/Programs/Python/Python310/lib/site-packages/pandas/io/parsers/readers.py?line=573'>574</a>\u001b[0m \u001b[39m# Create the parser.\u001b[39;00m\n\u001b[1;32m--> <a href='file:///c%3A/Users/vi-be/AppData/Local/Programs/Python/Python310/lib/site-packages/pandas/io/parsers/readers.py?line=574'>575</a>\u001b[0m parser \u001b[39m=\u001b[39m TextFileReader(filepath_or_buffer, \u001b[39m*\u001b[39m\u001b[39m*\u001b[39mkwds)\n\u001b[0;32m    <a href='file:///c%3A/Users/vi-be/AppData/Local/Programs/Python/Python310/lib/site-packages/pandas/io/parsers/readers.py?line=576'>577</a>\u001b[0m \u001b[39mif\u001b[39;00m chunksize \u001b[39mor\u001b[39;00m iterator:\n\u001b[0;32m    <a href='file:///c%3A/Users/vi-be/AppData/Local/Programs/Python/Python310/lib/site-packages/pandas/io/parsers/readers.py?line=577'>578</a>\u001b[0m     \u001b[39mreturn\u001b[39;00m parser\n",
            "File \u001b[1;32mc:\\Users\\vi-be\\AppData\\Local\\Programs\\Python\\Python310\\lib\\site-packages\\pandas\\io\\parsers\\readers.py:933\u001b[0m, in \u001b[0;36mTextFileReader.__init__\u001b[1;34m(self, f, engine, **kwds)\u001b[0m\n\u001b[0;32m    <a href='file:///c%3A/Users/vi-be/AppData/Local/Programs/Python/Python310/lib/site-packages/pandas/io/parsers/readers.py?line=929'>930</a>\u001b[0m     \u001b[39mself\u001b[39m\u001b[39m.\u001b[39moptions[\u001b[39m\"\u001b[39m\u001b[39mhas_index_names\u001b[39m\u001b[39m\"\u001b[39m] \u001b[39m=\u001b[39m kwds[\u001b[39m\"\u001b[39m\u001b[39mhas_index_names\u001b[39m\u001b[39m\"\u001b[39m]\n\u001b[0;32m    <a href='file:///c%3A/Users/vi-be/AppData/Local/Programs/Python/Python310/lib/site-packages/pandas/io/parsers/readers.py?line=931'>932</a>\u001b[0m \u001b[39mself\u001b[39m\u001b[39m.\u001b[39mhandles: IOHandles \u001b[39m|\u001b[39m \u001b[39mNone\u001b[39;00m \u001b[39m=\u001b[39m \u001b[39mNone\u001b[39;00m\n\u001b[1;32m--> <a href='file:///c%3A/Users/vi-be/AppData/Local/Programs/Python/Python310/lib/site-packages/pandas/io/parsers/readers.py?line=932'>933</a>\u001b[0m \u001b[39mself\u001b[39m\u001b[39m.\u001b[39m_engine \u001b[39m=\u001b[39m \u001b[39mself\u001b[39;49m\u001b[39m.\u001b[39;49m_make_engine(f, \u001b[39mself\u001b[39;49m\u001b[39m.\u001b[39;49mengine)\n",
            "File \u001b[1;32mc:\\Users\\vi-be\\AppData\\Local\\Programs\\Python\\Python310\\lib\\site-packages\\pandas\\io\\parsers\\readers.py:1217\u001b[0m, in \u001b[0;36mTextFileReader._make_engine\u001b[1;34m(self, f, engine)\u001b[0m\n\u001b[0;32m   <a href='file:///c%3A/Users/vi-be/AppData/Local/Programs/Python/Python310/lib/site-packages/pandas/io/parsers/readers.py?line=1212'>1213</a>\u001b[0m     mode \u001b[39m=\u001b[39m \u001b[39m\"\u001b[39m\u001b[39mrb\u001b[39m\u001b[39m\"\u001b[39m\n\u001b[0;32m   <a href='file:///c%3A/Users/vi-be/AppData/Local/Programs/Python/Python310/lib/site-packages/pandas/io/parsers/readers.py?line=1213'>1214</a>\u001b[0m \u001b[39m# error: No overload variant of \"get_handle\" matches argument types\u001b[39;00m\n\u001b[0;32m   <a href='file:///c%3A/Users/vi-be/AppData/Local/Programs/Python/Python310/lib/site-packages/pandas/io/parsers/readers.py?line=1214'>1215</a>\u001b[0m \u001b[39m# \"Union[str, PathLike[str], ReadCsvBuffer[bytes], ReadCsvBuffer[str]]\"\u001b[39;00m\n\u001b[0;32m   <a href='file:///c%3A/Users/vi-be/AppData/Local/Programs/Python/Python310/lib/site-packages/pandas/io/parsers/readers.py?line=1215'>1216</a>\u001b[0m \u001b[39m# , \"str\", \"bool\", \"Any\", \"Any\", \"Any\", \"Any\", \"Any\"\u001b[39;00m\n\u001b[1;32m-> <a href='file:///c%3A/Users/vi-be/AppData/Local/Programs/Python/Python310/lib/site-packages/pandas/io/parsers/readers.py?line=1216'>1217</a>\u001b[0m \u001b[39mself\u001b[39m\u001b[39m.\u001b[39mhandles \u001b[39m=\u001b[39m get_handle(  \u001b[39m# type: ignore[call-overload]\u001b[39;49;00m\n\u001b[0;32m   <a href='file:///c%3A/Users/vi-be/AppData/Local/Programs/Python/Python310/lib/site-packages/pandas/io/parsers/readers.py?line=1217'>1218</a>\u001b[0m     f,\n\u001b[0;32m   <a href='file:///c%3A/Users/vi-be/AppData/Local/Programs/Python/Python310/lib/site-packages/pandas/io/parsers/readers.py?line=1218'>1219</a>\u001b[0m     mode,\n\u001b[0;32m   <a href='file:///c%3A/Users/vi-be/AppData/Local/Programs/Python/Python310/lib/site-packages/pandas/io/parsers/readers.py?line=1219'>1220</a>\u001b[0m     encoding\u001b[39m=\u001b[39;49m\u001b[39mself\u001b[39;49m\u001b[39m.\u001b[39;49moptions\u001b[39m.\u001b[39;49mget(\u001b[39m\"\u001b[39;49m\u001b[39mencoding\u001b[39;49m\u001b[39m\"\u001b[39;49m, \u001b[39mNone\u001b[39;49;00m),\n\u001b[0;32m   <a href='file:///c%3A/Users/vi-be/AppData/Local/Programs/Python/Python310/lib/site-packages/pandas/io/parsers/readers.py?line=1220'>1221</a>\u001b[0m     compression\u001b[39m=\u001b[39;49m\u001b[39mself\u001b[39;49m\u001b[39m.\u001b[39;49moptions\u001b[39m.\u001b[39;49mget(\u001b[39m\"\u001b[39;49m\u001b[39mcompression\u001b[39;49m\u001b[39m\"\u001b[39;49m, \u001b[39mNone\u001b[39;49;00m),\n\u001b[0;32m   <a href='file:///c%3A/Users/vi-be/AppData/Local/Programs/Python/Python310/lib/site-packages/pandas/io/parsers/readers.py?line=1221'>1222</a>\u001b[0m     memory_map\u001b[39m=\u001b[39;49m\u001b[39mself\u001b[39;49m\u001b[39m.\u001b[39;49moptions\u001b[39m.\u001b[39;49mget(\u001b[39m\"\u001b[39;49m\u001b[39mmemory_map\u001b[39;49m\u001b[39m\"\u001b[39;49m, \u001b[39mFalse\u001b[39;49;00m),\n\u001b[0;32m   <a href='file:///c%3A/Users/vi-be/AppData/Local/Programs/Python/Python310/lib/site-packages/pandas/io/parsers/readers.py?line=1222'>1223</a>\u001b[0m     is_text\u001b[39m=\u001b[39;49mis_text,\n\u001b[0;32m   <a href='file:///c%3A/Users/vi-be/AppData/Local/Programs/Python/Python310/lib/site-packages/pandas/io/parsers/readers.py?line=1223'>1224</a>\u001b[0m     errors\u001b[39m=\u001b[39;49m\u001b[39mself\u001b[39;49m\u001b[39m.\u001b[39;49moptions\u001b[39m.\u001b[39;49mget(\u001b[39m\"\u001b[39;49m\u001b[39mencoding_errors\u001b[39;49m\u001b[39m\"\u001b[39;49m, \u001b[39m\"\u001b[39;49m\u001b[39mstrict\u001b[39;49m\u001b[39m\"\u001b[39;49m),\n\u001b[0;32m   <a href='file:///c%3A/Users/vi-be/AppData/Local/Programs/Python/Python310/lib/site-packages/pandas/io/parsers/readers.py?line=1224'>1225</a>\u001b[0m     storage_options\u001b[39m=\u001b[39;49m\u001b[39mself\u001b[39;49m\u001b[39m.\u001b[39;49moptions\u001b[39m.\u001b[39;49mget(\u001b[39m\"\u001b[39;49m\u001b[39mstorage_options\u001b[39;49m\u001b[39m\"\u001b[39;49m, \u001b[39mNone\u001b[39;49;00m),\n\u001b[0;32m   <a href='file:///c%3A/Users/vi-be/AppData/Local/Programs/Python/Python310/lib/site-packages/pandas/io/parsers/readers.py?line=1225'>1226</a>\u001b[0m )\n\u001b[0;32m   <a href='file:///c%3A/Users/vi-be/AppData/Local/Programs/Python/Python310/lib/site-packages/pandas/io/parsers/readers.py?line=1226'>1227</a>\u001b[0m \u001b[39massert\u001b[39;00m \u001b[39mself\u001b[39m\u001b[39m.\u001b[39mhandles \u001b[39mis\u001b[39;00m \u001b[39mnot\u001b[39;00m \u001b[39mNone\u001b[39;00m\n\u001b[0;32m   <a href='file:///c%3A/Users/vi-be/AppData/Local/Programs/Python/Python310/lib/site-packages/pandas/io/parsers/readers.py?line=1227'>1228</a>\u001b[0m f \u001b[39m=\u001b[39m \u001b[39mself\u001b[39m\u001b[39m.\u001b[39mhandles\u001b[39m.\u001b[39mhandle\n",
            "File \u001b[1;32mc:\\Users\\vi-be\\AppData\\Local\\Programs\\Python\\Python310\\lib\\site-packages\\pandas\\io\\common.py:789\u001b[0m, in \u001b[0;36mget_handle\u001b[1;34m(path_or_buf, mode, encoding, compression, memory_map, is_text, errors, storage_options)\u001b[0m\n\u001b[0;32m    <a href='file:///c%3A/Users/vi-be/AppData/Local/Programs/Python/Python310/lib/site-packages/pandas/io/common.py?line=783'>784</a>\u001b[0m \u001b[39melif\u001b[39;00m \u001b[39misinstance\u001b[39m(handle, \u001b[39mstr\u001b[39m):\n\u001b[0;32m    <a href='file:///c%3A/Users/vi-be/AppData/Local/Programs/Python/Python310/lib/site-packages/pandas/io/common.py?line=784'>785</a>\u001b[0m     \u001b[39m# Check whether the filename is to be opened in binary mode.\u001b[39;00m\n\u001b[0;32m    <a href='file:///c%3A/Users/vi-be/AppData/Local/Programs/Python/Python310/lib/site-packages/pandas/io/common.py?line=785'>786</a>\u001b[0m     \u001b[39m# Binary mode does not support 'encoding' and 'newline'.\u001b[39;00m\n\u001b[0;32m    <a href='file:///c%3A/Users/vi-be/AppData/Local/Programs/Python/Python310/lib/site-packages/pandas/io/common.py?line=786'>787</a>\u001b[0m     \u001b[39mif\u001b[39;00m ioargs\u001b[39m.\u001b[39mencoding \u001b[39mand\u001b[39;00m \u001b[39m\"\u001b[39m\u001b[39mb\u001b[39m\u001b[39m\"\u001b[39m \u001b[39mnot\u001b[39;00m \u001b[39min\u001b[39;00m ioargs\u001b[39m.\u001b[39mmode:\n\u001b[0;32m    <a href='file:///c%3A/Users/vi-be/AppData/Local/Programs/Python/Python310/lib/site-packages/pandas/io/common.py?line=787'>788</a>\u001b[0m         \u001b[39m# Encoding\u001b[39;00m\n\u001b[1;32m--> <a href='file:///c%3A/Users/vi-be/AppData/Local/Programs/Python/Python310/lib/site-packages/pandas/io/common.py?line=788'>789</a>\u001b[0m         handle \u001b[39m=\u001b[39m \u001b[39mopen\u001b[39;49m(\n\u001b[0;32m    <a href='file:///c%3A/Users/vi-be/AppData/Local/Programs/Python/Python310/lib/site-packages/pandas/io/common.py?line=789'>790</a>\u001b[0m             handle,\n\u001b[0;32m    <a href='file:///c%3A/Users/vi-be/AppData/Local/Programs/Python/Python310/lib/site-packages/pandas/io/common.py?line=790'>791</a>\u001b[0m             ioargs\u001b[39m.\u001b[39;49mmode,\n\u001b[0;32m    <a href='file:///c%3A/Users/vi-be/AppData/Local/Programs/Python/Python310/lib/site-packages/pandas/io/common.py?line=791'>792</a>\u001b[0m             encoding\u001b[39m=\u001b[39;49mioargs\u001b[39m.\u001b[39;49mencoding,\n\u001b[0;32m    <a href='file:///c%3A/Users/vi-be/AppData/Local/Programs/Python/Python310/lib/site-packages/pandas/io/common.py?line=792'>793</a>\u001b[0m             errors\u001b[39m=\u001b[39;49merrors,\n\u001b[0;32m    <a href='file:///c%3A/Users/vi-be/AppData/Local/Programs/Python/Python310/lib/site-packages/pandas/io/common.py?line=793'>794</a>\u001b[0m             newline\u001b[39m=\u001b[39;49m\u001b[39m\"\u001b[39;49m\u001b[39m\"\u001b[39;49m,\n\u001b[0;32m    <a href='file:///c%3A/Users/vi-be/AppData/Local/Programs/Python/Python310/lib/site-packages/pandas/io/common.py?line=794'>795</a>\u001b[0m         )\n\u001b[0;32m    <a href='file:///c%3A/Users/vi-be/AppData/Local/Programs/Python/Python310/lib/site-packages/pandas/io/common.py?line=795'>796</a>\u001b[0m     \u001b[39melse\u001b[39;00m:\n\u001b[0;32m    <a href='file:///c%3A/Users/vi-be/AppData/Local/Programs/Python/Python310/lib/site-packages/pandas/io/common.py?line=796'>797</a>\u001b[0m         \u001b[39m# Binary mode\u001b[39;00m\n\u001b[0;32m    <a href='file:///c%3A/Users/vi-be/AppData/Local/Programs/Python/Python310/lib/site-packages/pandas/io/common.py?line=797'>798</a>\u001b[0m         handle \u001b[39m=\u001b[39m \u001b[39mopen\u001b[39m(handle, ioargs\u001b[39m.\u001b[39mmode)\n",
            "\u001b[1;31mFileNotFoundError\u001b[0m: [Errno 2] No such file or directory: '/datas/times_gauchos_tratado.csv'"
          ]
        }
      ],
      "source": [
        "import pandas as pd\n",
        "import numpy as np\n",
        "from matplotlib import pyplot as plt\n",
        "import seaborn as sns\n",
        "from collections import Counter\n",
        "from adjustText import adjust_text\n",
        "from matplotlib.ticker import FuncFormatter\n",
        "formatter = FuncFormatter(lambda y, pos: \"%d%%\" % (y))\n",
        "times = pd.read_csv('/datas/times_gauchos_tratado.csv', sep=',', \n",
        "                    dtype = ({'Apelido': 'category', 'Nome' : 'category', 'Cidade': 'category'}))\n",
        "campeonatos = pd.read_csv('../datas/campeonatos_gauchos_tratado.csv', sep=',', \n",
        "                            dtype=({'Edicao': np.uint8, 'Ano' : np.uint16, 'Artilheiro' : object, \n",
        "                            'Primeiro' : 'category' , 'Segundo' : 'category', 'Terceiro' : 'category', \n",
        "                            'Quarto' : 'category', 'Cidade_Primeiro' : 'category' , \n",
        "                            'Cidade_Segundo' : 'category', 'Cidade_Terceiro' : 'category', \n",
        "                            'Cidade_Quarto' : 'category', 'N_de_gols' : 'Int8'}))\n",
        "\n",
        "cidades = pd.read_csv('/datas/cidades_gauchas_tratado.csv', dtype=({'Cidade' : 'category', 'Microrregioes' : 'category',\n",
        "                                                                'Mesorregioes' : 'category'}))\n",
        "times['Fundacao'] = pd.to_datetime(times['Fundacao'], infer_datetime_format= False, dayfirst=True, format = '%d/%m/%Y', errors = 'coerce')"
      ]
    },
    {
      "cell_type": "code",
      "execution_count": null,
      "id": "33fd6f99",
      "metadata": {},
      "outputs": [],
      "source": [
        "def multiverso_count(data,y,xlabel,ylabel,title, h = 8, w = 6):\n",
        "    with plt.xkcd():\n",
        "        fig, ax = plt.subplots(figsize=(h, w))\n",
        "        ax = sns.countplot(ax = ax,data=data, y=y, order = data[y].value_counts().index)\n",
        "        ax.bar_label(ax.containers[0])\n",
        "        ax.set_xlabel(xlabel)\n",
        "        ax.set_ylabel(ylabel)\n",
        "        ax.set_title(title)\n",
        "        return plt.show()\n",
        "\n",
        "def graphics_point(data, x, y, size, text_label, hue, title, xlabel, ylabel, label_legend = [], title_legend =[], high=[], h = 10, w =8):\n",
        "    with plt.style.context('fivethirtyeight'):\n",
        "        fig, ax = plt.subplots(figsize=(h, w))\n",
        "        if high == []:\n",
        "            high = text_label\n",
        "        if label_legend == []:\n",
        "            label_legend = hue\n",
        "        sns.scatterplot(ax= ax, data=data[data[x] > 0], x=x, y=y, hue=hue, size=size, \n",
        "        sizes=(100, 1000))\n",
        "        text = []   \n",
        "        for i, point in data.iterrows():\n",
        "            if point[text_label] in high:\n",
        "                text.append(ax.text(point[x], point[y], str(point[text_label])))\n",
        "        adjust_text(text,avoid_points = True)\n",
        "        handles, labels = ax.get_legend_handles_labels()\n",
        "        labels[len(pd.unique(data[hue])) + 1] = label_legend\n",
        "        ax.set_title(title)\n",
        "        ax.set_xlabel(xlabel)\n",
        "        ax.set_ylabel(ylabel)\n",
        "        ax.legend(handles = handles[1:], labels = labels[1:], loc='lower right', title= title_legend)\n",
        "        return plt.show()\n",
        "\n",
        "def normal_count(data,y,xlabel,ylabel,title, h = 8, w = 6):\n",
        "    with plt.style.context('fivethirtyeight'):\n",
        "        fig, ax = plt.subplots(figsize=(h, w))\n",
        "        sns.countplot(ax = ax, data=data, y=y, order = data[y].value_counts().index)\n",
        "        ax.bar_label(ax.containers[0])\n",
        "        ax.set_xlabel(xlabel)\n",
        "        ax.set_ylabel(ylabel)\n",
        "        ax.set_title(title)\n",
        "        return plt.show()\n",
        "\n",
        "def graphics_point_m(data, x, y, size, text_label, hue, title, xlabel, ylabel, label_legend = [], title_legend =[], high=[], h = 10, w =8):\n",
        "    with plt.xkcd():\n",
        "        fig, ax = plt.subplots(figsize=(h, w))\n",
        "        if high == []:\n",
        "            high = text_label\n",
        "        if label_legend == []:\n",
        "            label_legend = hue\n",
        "        sns.scatterplot(ax= ax, data=data[data[x] > 0], x=x, y=y, hue=hue, size=size, sizes=(100, 1000))\n",
        "        text = []   \n",
        "        for i, point in data.iterrows():\n",
        "            if point[text_label] in high:\n",
        "                text.append(ax.text(point[x], point[y], str(point[text_label])))\n",
        "        adjust_text(text,avoid_points = True)\n",
        "        handles, labels = ax.get_legend_handles_labels()\n",
        "        labels[len(pd.unique(data[hue])) + 1] = label_legend\n",
        "        ax.set_title(title)\n",
        "        ax.set_xlabel(xlabel)\n",
        "        ax.set_ylabel(ylabel)\n",
        "        ax.legend(handles = handles[1:], labels = labels[1:], loc='lower right', title= title_legend)\n",
        "        return plt.show()"
      ]
    },
    {
      "cell_type": "markdown",
      "id": "eddaa2c6",
      "metadata": {},
      "source": [
        "## Sumário\n",
        "\n",
        "- Ideias\n",
        "- Coleta, Tratamento e Análise dos dados\n",
        "- Motivação\n",
        "- Visualização dos Dados\n",
        "- O que é o Multiverso?\n",
        "- Visualização dos dados\n",
        "- Prelúdio para o Trabalho 2\n",
        "- Opiniões sobre Python\n",
        "\n",
        "\n",
        "## Ideias\n",
        "::: {.incremental}\n",
        "- Utilizar Python;\n",
        "- Realizar tratamendo dos dataframes;\n",
        "    - Web Scraping\n",
        "- Utilizar análise no **[STATufsm](https://www.instagram.com/statufsm/)**\n",
        ":::\n",
        "\n",
        "\n",
        "## Coleta de dados\n",
        "\n",
        ". . .\n",
        "\n",
        "- Principais:\n",
        "\n",
        "    - [Wikipédia](https://pt.wikipedia.org/wiki/Wikipédia:Página_principal);\n",
        "    - [IBGE Cidades](https://cidades.ibge.gov.br);\n",
        "    - [Bola Amarela](https://bolaamarelafc.com.br/campeonatos/estaduais/campeonato-gaucho-1a-divisao/).\n",
        "\n",
        ". . .\n",
        "    \n",
        "- Secundários:\n",
        "\n",
        "    \n",
        "    - [Times do RS](https://timesdors.blogspot.com);\n",
        "    - [Grêmiopédia](https://www.gremiopedia.com/wiki/Página_principal);\n",
        "    - [Wikipédia](https://pt.wikipedia.org/wiki/Wikipédia:Página_principal).\n",
        "\n",
        "## Etapas e principal dificuldade\n",
        "\n",
        "::: {.incremental}\n",
        "- Coleta dos dados (Web Scraping):\n",
        "    - Acentos.\n",
        "- Tratamentos dos dados:\n",
        "    - Acentos^['Grêmio' == 'Grêmio' -> False].\n",
        "- Análise dos dados:\n",
        "    - Visualização dos dados no python.\n",
        ":::\n",
        "\n",
        "::: footer\n",
        "ggplot2 >>>>>> matplotlib & seaborn\n",
        ":::\n",
        "\n",
        "## Porcentagem de tempo gasto em cada etapa\n",
        "\n",
        "\n",
        "::: {.panel-tabset}\n",
        "\n",
        "### Gráfico\n"
      ]
    },
    {
      "cell_type": "code",
      "execution_count": null,
      "id": "42668920",
      "metadata": {},
      "outputs": [],
      "source": [
        "#| fig-align: center\n",
        "fig, ax = plt.subplots(figsize=(6, 6))\n",
        "\n",
        "ax.set_aspect('equal')\n",
        "tempo = [15,60,5,20]\n",
        "wedges, texts, percs = ax.pie(tempo, labels=['Coleta', 'Tratamento', 'Análise', 'Visualização'],  autopct=\"%1.1f%%\")\n",
        "\n",
        "groups = [[0],[1],[2,3]]\n",
        "radfraction = 0.1\n",
        "for group in groups:\n",
        "    ang = np.deg2rad((wedges[group[-1]].theta2 + wedges[group[0]].theta1) / 2)\n",
        "    for j in group:\n",
        "        center = radfraction * wedges[j].r * np.array([np.cos(ang), np.sin(ang)])\n",
        "        wedges[j].set_center(center)\n",
        "        texts[j].set_position(np.array(texts[j].get_position()) + center)\n",
        "        percs[j].set_position(np.array(percs[j].get_position()) + center)\n",
        "ax.autoscale(True)"
      ]
    },
    {
      "cell_type": "markdown",
      "id": "65566f6e",
      "metadata": {},
      "source": [
        "### Código\n"
      ]
    },
    {
      "cell_type": "code",
      "execution_count": null,
      "id": "d739b7e0",
      "metadata": {},
      "outputs": [],
      "source": [
        "#| eval: false\n",
        "#| echo: true\n",
        "#| output: false\n",
        "fig, ax = plt.subplots(figsize=(8, 7))\n",
        "\n",
        "ax.set_aspect('equal')\n",
        "tempo = [15,60,5,20]\n",
        "wedges, texts, percs = ax.pie(tempo, labels=['Coleta', 'Tratamento', \n",
        "'Análise', 'Visualização'],  autopct=\"%1.1f%%\")\n",
        "\n",
        "groups = [[0],[1],[2,3]]\n",
        "radfraction = 0.1\n",
        "for group in groups:\n",
        "    ang = np.deg2rad((wedges[group[-1]].theta2 + wedges[group[0]].theta1) / 2)\n",
        "    for j in group:\n",
        "        center = radfraction * wedges[j].r * np.array([np.cos(ang), \n",
        "        np.sin(ang)])\n",
        "        wedges[j].set_center(center)\n",
        "        texts[j].set_position(np.array(texts[j].get_position()) + center)\n",
        "        percs[j].set_position(np.array(percs[j].get_position()) + center)\n",
        "ax.autoscale(True)"
      ]
    },
    {
      "cell_type": "markdown",
      "id": "d34e615a",
      "metadata": {},
      "source": [
        ":::\n",
        "\n",
        "\n",
        "\n",
        "## Apresentação dos bancos {.scrollable}\n",
        "\n",
        "::: {.panel-tabset}\n",
        "\n",
        "### Campeonatos\n",
        "\n",
        "<style>\n",
        "table.dataframe {\n",
        "font-size:50%;\n",
        "}\n",
        "</style>\n"
      ]
    },
    {
      "cell_type": "code",
      "execution_count": null,
      "id": "9022c87f",
      "metadata": {},
      "outputs": [],
      "source": [
        "campeonatos.head(8).to_html(index=False,columns=['Ano', 'Primeiro', 'Segundo',  'Artilheiro', 'N_de_gols', 'Cidade_Primeiro','Cidade_Segundo'])"
      ]
    },
    {
      "cell_type": "markdown",
      "id": "470423ac",
      "metadata": {},
      "source": [
        "### Times\n"
      ]
    },
    {
      "cell_type": "code",
      "execution_count": null,
      "id": "6e76b4d4",
      "metadata": {},
      "outputs": [],
      "source": [
        "times.tail(10).to_html(index = False)"
      ]
    },
    {
      "cell_type": "markdown",
      "id": "217b7788",
      "metadata": {},
      "source": [
        "### Cidades\n"
      ]
    },
    {
      "cell_type": "code",
      "execution_count": null,
      "id": "25977200",
      "metadata": {},
      "outputs": [],
      "source": [
        "cidades.head(8).to_html(index = False, columns=['Cidade', 'Populacao_2021', 'Microrregioes', 'Mesorregioes', 'PIB_2019', 'PIB_per_capita_2019', 'IDH_2010'])"
      ]
    },
    {
      "cell_type": "markdown",
      "id": "39eecec2",
      "metadata": {},
      "source": [
        "### Códigos\n"
      ]
    },
    {
      "cell_type": "code",
      "execution_count": null,
      "id": "8ebdb3d6",
      "metadata": {},
      "outputs": [],
      "source": [
        "#| eval: false\n",
        "#| echo: true\n",
        "# <style>\n",
        "# table.dataframe {\n",
        "# font-size:50%;\n",
        "# }\n",
        "# </style>\n",
        "campeonatos.head(8).to_html(index=False,columns=['Ano', 'Primeiro', \n",
        "                                                'Segundo',  \n",
        "                                                'Artilheiro', 'N_de_gols', \n",
        "                                                'Cidade_Primeiro',\n",
        "                                                'Cidade_Segundo'])\n",
        "times.tail(10).to_html(index = False)\n",
        "cidades.head(8).to_html(index = False, columns=['Cidade', 'Populacao_2021', \n",
        "                                                'Microrregioes', \n",
        "                                                'Mesorregioes', \n",
        "                                                'PIB_2019', \n",
        "                                                'PIB_per_capita_2019', \n",
        "                                                'IDH_2010'])"
      ]
    },
    {
      "cell_type": "markdown",
      "id": "17b07635",
      "metadata": {},
      "source": [
        ":::\n",
        "\n",
        "\n",
        "## Entendo as variáveis do banco {.scrollable}\n",
        "\n",
        "::: {.panel-tabset}\n",
        "\n",
        "### Campeonatos\n"
      ]
    },
    {
      "cell_type": "code",
      "execution_count": null,
      "id": "a8bcbe9e",
      "metadata": {},
      "outputs": [],
      "source": [
        "campeonatos.dtypes.to_frame().reset_index(level=0).\\\n",
        "    rename(columns={'index' : 'Variáveis', 0 : 'Tipos'}).\\\n",
        "    merge(campeonatos.isnull().sum().to_frame().reset_index(level=0).\\\n",
        "        rename(columns={'index' : 'Variáveis_l', 0 : 'Quantidade NA'}), how ='left',\n",
        "        left_on='Variáveis', right_on='Variáveis_l').drop(columns=['Variáveis_l'])"
      ]
    },
    {
      "cell_type": "markdown",
      "id": "94ec2049",
      "metadata": {},
      "source": [
        "### Times\n"
      ]
    },
    {
      "cell_type": "code",
      "execution_count": null,
      "id": "96d72307",
      "metadata": {},
      "outputs": [],
      "source": [
        "times.describe(include='all')"
      ]
    },
    {
      "cell_type": "code",
      "execution_count": null,
      "id": "a34f7bfc",
      "metadata": {},
      "outputs": [],
      "source": [
        "times.isnull().sum().to_frame().reset_index(level=0).rename(columns={'index' : 'Variáveis', 0 : 'Tipos'})"
      ]
    },
    {
      "cell_type": "markdown",
      "id": "9780889b",
      "metadata": {},
      "source": [
        "### Cidades\n"
      ]
    },
    {
      "cell_type": "code",
      "execution_count": null,
      "id": "2ba92081",
      "metadata": {},
      "outputs": [],
      "source": [
        "cidades.describe(include='all')"
      ]
    },
    {
      "cell_type": "markdown",
      "id": "685d3e59",
      "metadata": {},
      "source": [
        "### Códigos\n"
      ]
    },
    {
      "cell_type": "code",
      "execution_count": null,
      "id": "bd86f62c",
      "metadata": {},
      "outputs": [],
      "source": [
        "#| eval: false\n",
        "#| echo: true\n",
        "\n",
        "campeonatos.dtypes.to_frame().reset_index(level=0).\\\n",
        "    rename(columns={'index' : 'Variáveis', 0 : 'Tipos'}).\\\n",
        "    merge(campeonatos.isnull().sum().to_frame().reset_index(level=0).\\\n",
        "        rename(columns={'index' : 'Variáveis_l', 0 : 'Quantidade NA'}),\n",
        "        how ='left',\n",
        "        left_on='Variáveis', right_on='Variáveis_l').\\\n",
        "        drop(columns=['Variáveis_l'])\n",
        "times.describe(include='all')\n",
        "times.isnull().sum().to_frame().reset_index(level=0).\\\n",
        "    rename(columns={'index' : 'Variáveis', 0 : 'Tipos'})\n",
        "cidades.describe(include='all')"
      ]
    },
    {
      "cell_type": "markdown",
      "id": "5a13ba7b",
      "metadata": {},
      "source": [
        ":::\n",
        "\n",
        "\n",
        "# Motivação\n",
        "\n",
        "## Dupla greNAL vs Outros Times\n",
        "::: {.panel-tabset}\n",
        "\n",
        "### Gráfico\n"
      ]
    },
    {
      "cell_type": "code",
      "execution_count": null,
      "id": "f0c78c09",
      "metadata": {},
      "outputs": [],
      "source": [
        "#| fig-align: center\n",
        "with plt.style.context('bmh'):\n",
        "    fig, ax = plt.subplots(figsize=(8, 6))\n",
        "    sns.barplot(ax = ax, data=campeonatos['Primeiro'].\\\n",
        "        map({'Grêmio': 'GreNAL', 'Internacional' : 'GreNAL'}).\\\n",
        "            fillna('Outros').to_frame().groupby(by='Primeiro').\\\n",
        "                size().to_frame().reset_index().\\\n",
        "                    rename(columns={0:'Titulos'}), \n",
        "                            order =['Outros', 'GreNAL'],\n",
        "                x='Primeiro', y='Titulos', \n",
        "                estimator=lambda x: max(x)/ sum(campeonatos['Primeiro'].\\\n",
        "                    map({'Grêmio': 'GreNAL', 'Internacional' : 'GreNAL'}).\\\n",
        "                        fillna('Outros').to_frame().groupby(by='Primeiro').\\\n",
        "                            size().to_frame().reset_index().\\\n",
        "                                rename(columns={0:'Titulos'})['Titulos']) * 100)\n",
        "    ax.bar_label(ax.containers[0], fmt='%.2f%%' )\n",
        "    ax.set_xlabel('Quantidade de títulos')\n",
        "    ax.set_ylabel('Agrupamento de times')\n",
        "    ax.set_title('Comparação dos títulos gaúchos da dupla \\\n",
        "GreNal com os outros times')\n",
        "    ax.yaxis.set_major_formatter(formatter)\n",
        "    plt.show()"
      ]
    },
    {
      "cell_type": "markdown",
      "id": "5a8a94b4",
      "metadata": {},
      "source": [
        "### Código\n"
      ]
    },
    {
      "cell_type": "code",
      "execution_count": null,
      "id": "3a9bc5ab",
      "metadata": {},
      "outputs": [],
      "source": [
        "#| eval: false\n",
        "#| echo: true\n",
        "\n",
        "with plt.style.context('bmh'):\n",
        "    fig, ax = plt.subplots(figsize=(8, 6))\n",
        "    sns.barplot(ax = ax, data=campeonatos['Primeiro'].\\\n",
        "        map({'Grêmio': 'GreNAL', 'Internacional' : 'GreNAL'}).\\\n",
        "            fillna('Outros').to_frame().groupby(by='Primeiro').\\\n",
        "                size().to_frame().reset_index().\\\n",
        "                    rename(columns={0:'Titulos'}), \n",
        "                            order =['Outros', 'GreNAL'],\n",
        "                x='Primeiro', y='Titulos', \n",
        "                estimator=lambda x: max(x)/ sum(campeonatos['Primeiro'].\\\n",
        "                    map({'Grêmio': 'GreNAL', 'Internacional' : 'GreNAL'}).\\\n",
        "                        fillna('Outros').to_frame().groupby(by='Primeiro').\\\n",
        "                            size().to_frame().reset_index().\\\n",
        "                                rename(columns={0:'Titulos'})['Titulos'])\n",
        "                                 * 100)\n",
        "    ax.bar_label(ax.containers[0], fmt='%.2f%%' )\n",
        "    ax.set_xlabel('Quantidade de títulos')\n",
        "    ax.set_ylabel('Agrupamento de times')\n",
        "    ax.set_title('Comparação dos títulos gaúchos da dupla \\\n",
        "GreNal com os outros times')\n",
        "    ax.yaxis.set_major_formatter(formatter)\n",
        "    plt.show()"
      ]
    },
    {
      "cell_type": "markdown",
      "id": "6bad49d8",
      "metadata": {},
      "source": [
        ":::\n",
        "\n",
        "## Visualização dos dados \n",
        "\n",
        "::: {.panel-tabset}\n",
        "\n",
        "### Campeões\n",
        "\n",
        ":::: {.columns}\n",
        "\n",
        ":::: {.column width=\"50%\"}\n"
      ]
    },
    {
      "cell_type": "code",
      "execution_count": null,
      "id": "d6256a83",
      "metadata": {},
      "outputs": [],
      "source": [
        "normal_count(campeonatos, 'Primeiro', 'Número de títulos', 'Campeões', 'Títulos por times', w = 5)"
      ]
    },
    {
      "cell_type": "markdown",
      "id": "cc1346e8",
      "metadata": {},
      "source": [
        "::::\n",
        "\n",
        ":::: {.column width=\"50%\"}\n"
      ]
    },
    {
      "cell_type": "code",
      "execution_count": null,
      "id": "790ab829",
      "metadata": {},
      "outputs": [],
      "source": [
        "normal_count(campeonatos, 'Cidade_Primeiro', 'Número de títulos', 'Cidades com campeões', 'Títulos por cidade', h = 8, w = 5)"
      ]
    },
    {
      "cell_type": "markdown",
      "id": "28ad1bfc",
      "metadata": {},
      "source": [
        "::::\n",
        "\n",
        "::::\n",
        "\n",
        "\n",
        "### Vices \n",
        "\n",
        ":::: {.columns}\n",
        "\n",
        ":::: {.column width=\"50%\"}\n"
      ]
    },
    {
      "cell_type": "code",
      "execution_count": null,
      "id": "d6a0bfcf",
      "metadata": {},
      "outputs": [],
      "source": [
        "normal_count(campeonatos, 'Segundo', 'Número de Vices', 'Vice-Campeões', 'Vice Campeonatos por times', w = 5)"
      ]
    },
    {
      "cell_type": "markdown",
      "id": "e33210ba",
      "metadata": {},
      "source": [
        "::::\n",
        "\n",
        ":::: {.column width=\"50%\"}\n"
      ]
    },
    {
      "cell_type": "code",
      "execution_count": null,
      "id": "51e17126",
      "metadata": {},
      "outputs": [],
      "source": [
        "normal_count(campeonatos, 'Cidade_Segundo', 'Vice-campeonatos', 'Cidades com vices', 'Vices-campeonatos por cidades', w = 5)"
      ]
    },
    {
      "cell_type": "markdown",
      "id": "68ad1af1",
      "metadata": {},
      "source": [
        "::::\n",
        "\n",
        "::::\n",
        "### Gráficos\n"
      ]
    },
    {
      "cell_type": "code",
      "execution_count": null,
      "id": "5d80002b",
      "metadata": {},
      "outputs": [],
      "source": [
        "#| eval: false\n",
        "#| echo: true\n",
        "\n",
        "def normal_count(data,y,xlabel,ylabel,title, h = 8, w = 6):\n",
        "    with plt.style.context('fivethirtyeight'):\n",
        "        fig, ax = plt.subplots(figsize=(h, w))\n",
        "        sns.countplot(ax = ax, data=data, y=y, order = data[y].value_counts().index)\n",
        "        ax.bar_label(ax.containers[0])\n",
        "        ax.set_xlabel(xlabel)\n",
        "        ax.set_ylabel(ylabel)\n",
        "        ax.set_title(title)\n",
        "        return plt.show()\n",
        "normal_count(campeonatos, 'Primeiro', 'Número de títulos', 'Campeões', 'Títulos por times', w = 5)"
      ]
    },
    {
      "cell_type": "markdown",
      "id": "f623558f",
      "metadata": {},
      "source": [
        ":::\n",
        "\n",
        "# Por que \"Multiverso\"?\n",
        "\n",
        "##  {background-color=\"black\" background-image=\"imagens/multiverso.webp\" }\n",
        "\n",
        "##  {background-color=\"black\" background-image=\"imagens/multiverso_grenal.png\" }\n",
        "\n",
        "## Perguntas a serem respondidas{.smaller}\n",
        "\n",
        "::: {.incremental}\n",
        "- Quem seriam os principais times?\n",
        "- Quais seriam as principais cidades?\n",
        "- O polo de futebol, sairia da região metropolitana?\n",
        "- Quais covariáveis influenciam no crescimento de um time de futebol?\n",
        "- Quais os principais clássicos?\n",
        "![](http://pa1.narvii.com/6929/20cebc0cd1d06e66d07d20f867cdd8499ecac566r1-268-268_00.gif){.absolute top=350 right=370 width=\"450\" height=\"250\"}\n",
        ":::\n",
        "\n",
        "## O principal clássico com certeza seria Taqua-a-Taqua\n",
        "\n",
        "### Taquarense vs Taquariense\n",
        "\n",
        "![](https://upload.wikimedia.org/wikipedia/pt/2/27/Sport_Club_Taquarense.png){.absolute top=150 left=80 width=\"450\" height=\"450\"}\n",
        "![](http://4.bp.blogspot.com/-5e-14Phg55A/VCcwCITe2XI/AAAAAAAAH-I/1qFazlZIHKE/s1600/Taquariense%2Bde%2BTaquari.gif){.absolute top=150 right=80 width=\"450\" height=\"450\"}\n",
        "\n",
        "\n",
        "## Criando o Multiverso {.scrollable}\n",
        "\n",
        "- Apenas defini Inter e Grêmio como extintos e substituí pelos times que viriam em posições inferiores e mantive os campeões que não foram da dupla, assim o banco ficou:\n",
        "\n",
        "::: {.panel-tabset}\n",
        "\n",
        "### Banco\n"
      ]
    },
    {
      "cell_type": "code",
      "execution_count": null,
      "id": "f0c4d4ed",
      "metadata": {},
      "outputs": [],
      "source": [
        "multiverso_campeonatos = campeonatos.iloc[:, 0:6]\n",
        "multiverso_campeonatos['Primeiro'] = multiverso_campeonatos['Primeiro'].\\\n",
        "    map({'Internacional' : 'extinto','Grêmio' : 'extinto'}).\\\n",
        "        fillna(multiverso_campeonatos['Primeiro'])\n",
        "multiverso_campeonatos['Segundo'] = multiverso_campeonatos['Segundo'].\\\n",
        "    map({'Internacional' : 'extinto','Grêmio' : 'extinto'}).\\\n",
        "        fillna(multiverso_campeonatos['Segundo'])\n",
        "multiverso_campeonatos['Terceiro'] = multiverso_campeonatos['Terceiro'].\\\n",
        "    map({'Internacional' : 'extinto','Grêmio' : 'extinto'}).\\\n",
        "        fillna(multiverso_campeonatos['Terceiro'])\n",
        "multiverso_campeonatos['Quarto'] = multiverso_campeonatos['Quarto'].\\\n",
        "    map({'Internacional' : 'extinto','Grêmio' : 'extinto'}).\\\n",
        "        fillna(multiverso_campeonatos['Quarto'])\n",
        "\n",
        "multiverso_campeonatos.tail(5).to_html(index=False, \n",
        "                                        columns=['Primeiro', 'Segundo', \n",
        "                                        'Terceiro', 'Quarto'])"
      ]
    },
    {
      "cell_type": "markdown",
      "id": "94a33d95",
      "metadata": {},
      "source": [
        "### Código "
      ]
    },
    {
      "cell_type": "code",
      "execution_count": null,
      "id": "8076cad6",
      "metadata": {},
      "outputs": [],
      "source": [
        "#| eval: false\n",
        "#| echo: true\n",
        "multiverso_campeonatos = campeonatos.iloc[:, 0:6]\n",
        "multiverso_campeonatos['Primeiro'] = multiverso_campeonatos['Primeiro'].\\\n",
        "    map({'Internacional' : 'extinto','Grêmio' : 'extinto'}).\\\n",
        "        fillna(multiverso_campeonatos['Primeiro'])\n",
        "multiverso_campeonatos['Segundo'] = multiverso_campeonatos['Segundo'].\\\n",
        "    map({'Internacional' : 'extinto','Grêmio' : 'extinto'}).\\\n",
        "        fillna(multiverso_campeonatos['Segundo'])\n",
        "multiverso_campeonatos['Terceiro'] = multiverso_campeonatos['Terceiro'].\\\n",
        "    map({'Internacional' : 'extinto','Grêmio' : 'extinto'}).\\\n",
        "        fillna(multiverso_campeonatos['Terceiro'])\n",
        "multiverso_campeonatos['Quarto'] = multiverso_campeonatos['Quarto'].\\\n",
        "    map({'Internacional' : 'extinto','Grêmio' : 'extinto'}).\\\n",
        "        fillna(multiverso_campeonatos['Quarto'])\n",
        "\n",
        "multiverso_campeonatos.tail(5).to_html(index=False, \n",
        "                                        columns=['Primeiro', 'Segundo', \n",
        "                                        'Terceiro', 'Quarto'])"
      ]
    },
    {
      "cell_type": "markdown",
      "id": "e379a02b",
      "metadata": {},
      "source": [
        ":::\n",
        "\n",
        "## Criando o Multiverso {.scrollable}\n",
        "\n",
        "::: {.panel-tabset}\n",
        "\n",
        "### Banco"
      ]
    },
    {
      "cell_type": "code",
      "execution_count": null,
      "id": "bd0d959a",
      "metadata": {},
      "outputs": [],
      "source": [
        "for index,rows in multiverso_campeonatos.iterrows():\n",
        "  #for i in rows: \n",
        "  if(multiverso_campeonatos.iloc[index,2] == 'extinto'):\n",
        "    multiverso_campeonatos.iloc[index,2] = multiverso_campeonatos.iloc[index,3]\n",
        "    multiverso_campeonatos.iloc[index,3] = multiverso_campeonatos.iloc[index,4]\n",
        "    multiverso_campeonatos.iloc[index,4] = multiverso_campeonatos.iloc[index,5]\n",
        "    multiverso_campeonatos.iloc[index,5] = None\n",
        "    if(multiverso_campeonatos.iloc[index,2] == 'extinto'):\n",
        "      multiverso_campeonatos.iloc[index,2] = multiverso_campeonatos.iloc[index,3]\n",
        "      multiverso_campeonatos.iloc[index,3] = multiverso_campeonatos.iloc[index,4]\n",
        "      multiverso_campeonatos.iloc[index,4] = multiverso_campeonatos.iloc[index,5]\n",
        "      multiverso_campeonatos.iloc[index,5] = None\n",
        "  if(multiverso_campeonatos.iloc[index,3] == 'extinto'):\n",
        "    multiverso_campeonatos.iloc[index,3] = multiverso_campeonatos.iloc[index,4]\n",
        "    multiverso_campeonatos.iloc[index,4] = multiverso_campeonatos.iloc[index,5]\n",
        "    multiverso_campeonatos.iloc[index,5] = None\n",
        "    if(multiverso_campeonatos.iloc[index,3] == 'extinto'):\n",
        "      multiverso_campeonatos.iloc[index,3] = multiverso_campeonatos.iloc[index,4]\n",
        "      multiverso_campeonatos.iloc[index,4] = multiverso_campeonatos.iloc[index,5]\n",
        "      multiverso_campeonatos.iloc[index,5] = None\n",
        "  if(multiverso_campeonatos.iloc[index,4] == 'extinto'):\n",
        "    multiverso_campeonatos.iloc[index,4] = multiverso_campeonatos.iloc[index,5]\n",
        "    multiverso_campeonatos.iloc[index,5] = None\n",
        "    if(multiverso_campeonatos.iloc[index,4] == 'extinto'):\n",
        "      multiverso_campeonatos.iloc[index,4] = multiverso_campeonatos.iloc[index,5]\n",
        "      multiverso_campeonatos.iloc[index,5] = None\n",
        "  if(multiverso_campeonatos.iloc[index,5] == 'extinto'):\n",
        "    multiverso_campeonatos.iloc[index,5] = None\n",
        "multiverso_campeonatos = multiverso_campeonatos.\\\n",
        "    merge(times, how='left', left_on='Primeiro', right_on = \"Apelido\").\\\n",
        "        drop(columns=['Apelido', 'Nome', 'Fundacao']).\\\n",
        "            rename(columns={\"Cidade\": \"Cidade_Primeiro\"}) .\\\n",
        "    merge(times, how='left', left_on='Segundo', right_on = \"Apelido\").\\\n",
        "        drop(columns=['Apelido', 'Nome', 'Fundacao']).\\\n",
        "            rename(columns={\"Cidade\": \"Cidade_Segundo\"}) .\\\n",
        "    merge(times, how='left', left_on='Terceiro', right_on = \"Apelido\").\\\n",
        "        drop(columns=['Apelido', 'Nome', 'Fundacao']).\\\n",
        "            rename(columns={\"Cidade\": \"Cidade_Terceiro\"}) .\\\n",
        "    merge(times, how='left', left_on='Quarto', right_on = \"Apelido\").\\\n",
        "        drop(columns=['Apelido', 'Nome', 'Fundacao']).\\\n",
        "            rename(columns={\"Cidade\": \"Cidade_Quarto\"})\n",
        "\n",
        "multiverso_campeonatos.drop_duplicates(subset=['Ano'], inplace=True)\n",
        "\n",
        "multiverso_campeonatos.tail(5).to_html(index=False, \n",
        "                                        columns=['Primeiro', 'Segundo', \n",
        "                                        'Cidade_Primeiro', 'Cidade_Segundo'])\n"
      ]
    },
    {
      "cell_type": "markdown",
      "id": "c9e35653",
      "metadata": {},
      "source": [
        "### Código "
      ]
    },
    {
      "cell_type": "code",
      "execution_count": null,
      "id": "199f55ce",
      "metadata": {},
      "outputs": [],
      "source": [
        "#| eval: false\n",
        "#| echo: true\n",
        "\n",
        "for index,rows in multiverso_campeonatos.iterrows():\n",
        "  #for i in rows: \n",
        "  if(multiverso_campeonatos.iloc[index,2] == 'extinto'):\n",
        "    multiverso_campeonatos.iloc[index,2] = multiverso_campeonatos.iloc[index,3]\n",
        "    multiverso_campeonatos.iloc[index,3] = multiverso_campeonatos.iloc[index,4]\n",
        "    multiverso_campeonatos.iloc[index,4] = multiverso_campeonatos.iloc[index,5]\n",
        "    multiverso_campeonatos.iloc[index,5] = None\n",
        "    if(multiverso_campeonatos.iloc[index,2] == 'extinto'):\n",
        "      multiverso_campeonatos.iloc[index,2] = multiverso_campeonatos.iloc[index,3]\n",
        "      multiverso_campeonatos.iloc[index,3] = multiverso_campeonatos.iloc[index,4]\n",
        "      multiverso_campeonatos.iloc[index,4] = multiverso_campeonatos.iloc[index,5]\n",
        "      multiverso_campeonatos.iloc[index,5] = None\n",
        "  if(multiverso_campeonatos.iloc[index,3] == 'extinto'):\n",
        "    multiverso_campeonatos.iloc[index,3] = multiverso_campeonatos.iloc[index,4]\n",
        "    multiverso_campeonatos.iloc[index,4] = multiverso_campeonatos.iloc[index,5]\n",
        "    multiverso_campeonatos.iloc[index,5] = None\n",
        "    if(multiverso_campeonatos.iloc[index,3] == 'extinto'):\n",
        "      multiverso_campeonatos.iloc[index,3] = multiverso_campeonatos.iloc[index,4]\n",
        "      multiverso_campeonatos.iloc[index,4] = multiverso_campeonatos.iloc[index,5]\n",
        "      multiverso_campeonatos.iloc[index,5] = None\n",
        "  if(multiverso_campeonatos.iloc[index,4] == 'extinto'):\n",
        "    multiverso_campeonatos.iloc[index,4] = multiverso_campeonatos.iloc[index,5]\n",
        "    multiverso_campeonatos.iloc[index,5] = None\n",
        "    if(multiverso_campeonatos.iloc[index,4] == 'extinto'):\n",
        "      multiverso_campeonatos.iloc[index,4] = multiverso_campeonatos.iloc[index,5]\n",
        "      multiverso_campeonatos.iloc[index,5] = None\n",
        "  if(multiverso_campeonatos.iloc[index,5] == 'extinto'):\n",
        "    multiverso_campeonatos.iloc[index,5] = None\n",
        "multiverso_campeonatos = multiverso_campeonatos.\\\n",
        "    merge(times, how='left', left_on='Primeiro', right_on = \"Apelido\").\\\n",
        "        drop(columns=['Apelido', 'Nome', 'Fundacao']).\\\n",
        "            rename(columns={\"Cidade\": \"Cidade_Primeiro\"}) .\\\n",
        "    merge(times, how='left', left_on='Segundo', right_on = \"Apelido\").\\\n",
        "        drop(columns=['Apelido', 'Nome', 'Fundacao']).\\\n",
        "            rename(columns={\"Cidade\": \"Cidade_Segundo\"}) .\\\n",
        "    merge(times, how='left', left_on='Terceiro', right_on = \"Apelido\").\\\n",
        "        drop(columns=['Apelido', 'Nome', 'Fundacao']).\\\n",
        "            rename(columns={\"Cidade\": \"Cidade_Terceiro\"}) .\\\n",
        "    merge(times, how='left', left_on='Quarto', right_on = \"Apelido\").\\\n",
        "        drop(columns=['Apelido', 'Nome', 'Fundacao']).\\\n",
        "            rename(columns={\"Cidade\": \"Cidade_Quarto\"})\n",
        "multiverso_campeonatos.tail(5).to_html(index=False, \n",
        "                                        columns=['Primeiro', 'Segundo', \n",
        "                                        'Cidade_Primeiro', 'Cidade_Segundo'])"
      ]
    },
    {
      "cell_type": "markdown",
      "id": "8830ed22",
      "metadata": {},
      "source": [
        ":::\n",
        "\n",
        "## Entendo as variáveis do banco\n"
      ]
    },
    {
      "cell_type": "code",
      "execution_count": null,
      "id": "b4c9b220",
      "metadata": {},
      "outputs": [],
      "source": [
        "multiverso_campeonatos.describe(include = 'all').iloc[:4].to_html(\n",
        "    columns = ['Primeiro', 'Segundo', 'Terceiro', 'Quarto', \n",
        "                'Cidade_Primeiro', 'Cidade_Segundo', \n",
        "                'Cidade_Terceiro'])"
      ]
    },
    {
      "cell_type": "code",
      "execution_count": null,
      "id": "75e4a0dd",
      "metadata": {},
      "outputs": [],
      "source": [
        "multiverso_campeonatos.isnull().sum().to_frame().reset_index(level=0).rename(columns={'index' : 'Variáveis', 0 : 'Quantidade de NA'})"
      ]
    },
    {
      "cell_type": "markdown",
      "id": "8aca240f",
      "metadata": {},
      "source": [
        "## Visualização dos dados {.scrollable}\n",
        "\n",
        "::: {.panel-tabset}\n",
        "\n",
        "### Campeões\n",
        "\n",
        ":::: {.columns}\n",
        "\n",
        ":::: {.column width=\"50%\"}\n"
      ]
    },
    {
      "cell_type": "code",
      "execution_count": null,
      "id": "78cfb49f",
      "metadata": {},
      "outputs": [],
      "source": [
        "multiverso_count(multiverso_campeonatos, 'Primeiro', 'Número de títulos', \n",
        "'Campeões', 'Títulos por times', h = 10, w = 8)"
      ]
    },
    {
      "cell_type": "markdown",
      "id": "492bf967",
      "metadata": {},
      "source": [
        "::::\n",
        "\n",
        ":::: {.column width=\"50%\"}\n"
      ]
    },
    {
      "cell_type": "code",
      "execution_count": null,
      "id": "6a530dcc",
      "metadata": {},
      "outputs": [],
      "source": [
        "with plt.xkcd():\n",
        "    fig, ax = plt.subplots(figsize=(10, 8))\n",
        "    sns.countplot(ax=ax, data=multiverso_campeonatos, y='Cidade_Primeiro', order = multiverso_campeonatos['Cidade_Primeiro'].cat.remove_unused_categories().value_counts().index)\n",
        "    ax.bar_label(ax.containers[0])\n",
        "    ax.set_xlabel('Número de títulos')\n",
        "    ax.set_ylabel('Cidades com campeões')\n",
        "    ax.set_title('Títulos por cidade')\n",
        "    plt.show()"
      ]
    },
    {
      "cell_type": "markdown",
      "id": "545be7d2",
      "metadata": {},
      "source": [
        "::::\n",
        "\n",
        "::::\n",
        "\n",
        "\n",
        "### Vices \n",
        "\n",
        ":::: {.columns}\n",
        "\n",
        ":::: {.column width=\"50%\"}\n"
      ]
    },
    {
      "cell_type": "code",
      "execution_count": null,
      "id": "7cf17698",
      "metadata": {},
      "outputs": [],
      "source": [
        "multiverso_count(multiverso_campeonatos, 'Segundo', 'Número de Vices', 'Vice-Campeões', 'Vice Campeonatos por times', h = 10, w = 8)"
      ]
    },
    {
      "cell_type": "markdown",
      "id": "4ded5d43",
      "metadata": {},
      "source": [
        "::::\n",
        "\n",
        ":::: {.column width=\"50%\"}\n"
      ]
    },
    {
      "cell_type": "code",
      "execution_count": null,
      "id": "5dbd13e7",
      "metadata": {},
      "outputs": [],
      "source": [
        "with plt.xkcd():\n",
        "    fig, ax = plt.subplots(figsize=(10, 8))\n",
        "    sns.countplot(ax=ax, data=multiverso_campeonatos, y='Cidade_Segundo', order = multiverso_campeonatos['Cidade_Segundo'].cat.remove_unused_categories().value_counts().index)\n",
        "    ax.bar_label(ax.containers[0])\n",
        "    ax.set_xlabel('Número de vices')\n",
        "    ax.set_ylabel('Cidades com vice-campeões')\n",
        "    ax.set_title('Vices por cidade')\n",
        "    plt.show()"
      ]
    },
    {
      "cell_type": "markdown",
      "id": "315cbbd8",
      "metadata": {},
      "source": [
        "::::\n",
        "\n",
        "::::\n",
        "### Códigos\n"
      ]
    },
    {
      "cell_type": "code",
      "execution_count": null,
      "id": "5bc85a5a",
      "metadata": {},
      "outputs": [],
      "source": [
        "#| eval: false\n",
        "#| echo: true\n",
        "\n",
        "def multiverso_count(data,y,xlabel,ylabel,title, h = 8, w = 6):\n",
        "    with plt.xkcd():\n",
        "        fig, ax = plt.subplots(figsize=(h, w))\n",
        "        ax = sns.countplot(ax = ax,data=data, y=y, order = data[y].value_counts().index)\n",
        "        ax.bar_label(ax.containers[0])\n",
        "        ax.set_xlabel(xlabel)\n",
        "        ax.set_ylabel(ylabel)\n",
        "        ax.set_title(title)\n",
        "        return plt.show()"
      ]
    },
    {
      "cell_type": "markdown",
      "id": "2fa91d15",
      "metadata": {},
      "source": [
        ":::\n",
        "\n",
        "\n",
        "## O que interfere no sucesso dos times? {.scrollable}\n",
        "\n",
        "\n",
        "### As cidades onde estão?\n",
        "\n",
        "\n",
        "\n",
        "### Prelúdio para o trabalho 2\n"
      ]
    },
    {
      "cell_type": "code",
      "execution_count": null,
      "id": "c91bac81",
      "metadata": {},
      "outputs": [],
      "source": [
        "titulos_cidade = campeonatos.groupby(['Cidade_Primeiro']).\\\n",
        "    size().to_frame().reset_index(level=0).\\\n",
        "        rename(columns={0: 'Quantidade', 'Cidade_Primeiro' : 'Cidades'})\n",
        "vice_cidade = campeonatos.groupby(['Cidade_Segundo']).\\\n",
        "    size().to_frame().reset_index(level=0).\\\n",
        "        rename(columns={0: 'Quantidade', 'Cidade_Segundo' : 'Cidades'})\n",
        "\n",
        "city_counter = Counter(campeonatos['Cidade_Primeiro'])\n",
        "city_counter.update(campeonatos['Cidade_Segundo']) \n",
        "city_counter.update(campeonatos['Cidade_Terceiro'])\n",
        "city_counter.update(campeonatos['Cidade_Quarto'])\n",
        "\n",
        "del city_counter[np.nan] \n",
        "\n",
        "top4_cidade = pd.DataFrame.\\\n",
        "    from_dict(dict(city_counter), orient='index').\\\n",
        "        reset_index(level=0).\\\n",
        "    rename(columns={'index' : 'Cidades', 0 : 'Vezes_top_4'}).\\\n",
        "        sort_values(by=['Vezes_top_4'], ascending=False, ignore_index = True)\n",
        "\n",
        "cidades =  cidades.\\\n",
        "    merge(top4_cidade, how='left', left_on='Cidade', right_on = \"Cidades\").\\\n",
        "        drop(columns=['Cidades']).\\\n",
        "    merge(vice_cidade, how='left', left_on='Cidade', right_on = \"Cidades\").\\\n",
        "        drop(columns=['Cidades']).\\\n",
        "            rename(columns={'Quantidade' : 'Quantidade_Segundo'}).\\\n",
        "    merge(titulos_cidade, how='left', left_on='Cidade', right_on = \"Cidades\").\\\n",
        "        drop(columns=['Cidades']).\\\n",
        "            rename(columns={'Quantidade' : 'Quantidade_Primeiro'})\n",
        "\n",
        "cidades['Principal_Micro'] = cidades.\\\n",
        "    apply(lambda x: 'Principal Cidade' if x['Cidade'] in x['Microrregioes'] else 'Cidade Satélite', axis = 1)\n",
        "\n",
        "cidades['Quantidade_Primeiro'] = cidades['Quantidade_Primeiro'].\\\n",
        "    map({np.nan : 0}).fillna(cidades['Quantidade_Primeiro'])\n",
        "cidades['Quantidade_Segundo'] = cidades['Quantidade_Segundo'].\\\n",
        "    map({np.nan : 0}).fillna(cidades['Quantidade_Segundo'])\n",
        "cidades['Vezes_top_4'] = cidades['Vezes_top_4'].\\\n",
        "    map({np.nan : 0}).fillna(cidades['Vezes_top_4'])\n",
        "\n",
        "titulos_multiverso_cidade = multiverso_campeonatos.groupby(['Cidade_Primeiro']).\\\n",
        "    size().to_frame().reset_index(level=0).\\\n",
        "        rename(columns={0: 'Quantidade', 'Cidade_Primeiro' : 'Cidades'})\n",
        "vice_multiverso_cidade = multiverso_campeonatos.groupby(['Cidade_Segundo']).\\\n",
        "    size().to_frame().reset_index(level=0).\\\n",
        "        rename(columns={0: 'Quantidade', 'Cidade_Segundo' : 'Cidades'})\n",
        "\n",
        "multiverso_city_counter = Counter(multiverso_campeonatos['Cidade_Primeiro'])\n",
        "multiverso_city_counter.update(multiverso_campeonatos['Cidade_Segundo']) \n",
        "multiverso_city_counter.update(multiverso_campeonatos['Cidade_Terceiro'])\n",
        "multiverso_city_counter.update(multiverso_campeonatos['Cidade_Quarto'])\n",
        "\n",
        "del multiverso_city_counter[np.nan] \n",
        "\n",
        "top4_multiverso_cidade = pd.DataFrame.\\\n",
        "    from_dict(dict(multiverso_city_counter), orient='index').\\\n",
        "        reset_index(level=0).\\\n",
        "    rename(columns={'index' : 'Cidades', 0 : 'Vezes_top_4_Multiverso'}).\\\n",
        "        sort_values(by=['Vezes_top_4_Multiverso'], ascending=False, ignore_index = True)   "
      ]
    },
    {
      "cell_type": "code",
      "execution_count": null,
      "id": "3a9eddb1",
      "metadata": {},
      "outputs": [],
      "source": [
        "cidades =  cidades.\\\n",
        "    merge(top4_multiverso_cidade, how='left', left_on='Cidade', right_on = \"Cidades\").\\\n",
        "        drop(columns=['Cidades']).\\\n",
        "    merge(vice_multiverso_cidade, how='left', left_on='Cidade', right_on = \"Cidades\").\\\n",
        "        drop(columns=['Cidades']).\\\n",
        "            rename(columns={'Quantidade' : 'Quantidade_Segundo_Multiverso'}).\\\n",
        "    merge(titulos_multiverso_cidade, how='left', left_on='Cidade', right_on = \"Cidades\").\\\n",
        "        drop(columns=['Cidades']).\\\n",
        "            rename(columns={'Quantidade' : 'Quantidade_Primeiro_Multiverso'})\n",
        "\n",
        "cidades['Quantidade_Primeiro_Multiverso'] = cidades['Quantidade_Primeiro_Multiverso'].\\\n",
        "    map({np.nan : 0}).fillna(cidades['Quantidade_Primeiro_Multiverso'])\n",
        "cidades['Quantidade_Segundo_Multiverso'] = cidades['Quantidade_Segundo_Multiverso'].\\\n",
        "    map({np.nan : 0}).fillna(cidades['Quantidade_Segundo_Multiverso'])\n",
        "cidades['Vezes_top_4_Multiverso'] = cidades['Vezes_top_4_Multiverso'].\\\n",
        "    map({np.nan : 0}).fillna(cidades['Vezes_top_4_Multiverso'])"
      ]
    },
    {
      "cell_type": "code",
      "execution_count": null,
      "id": "ac275db4",
      "metadata": {},
      "outputs": [],
      "source": [
        "cidades.head(6)"
      ]
    },
    {
      "cell_type": "markdown",
      "id": "9a509311",
      "metadata": {},
      "source": [
        "## Criação de uma variável categória\n"
      ]
    },
    {
      "cell_type": "code",
      "execution_count": null,
      "id": "eb7fb8fc",
      "metadata": {},
      "outputs": [],
      "source": [
        "cidades.head(6).to_html(index = False, columns = ['Cidade', \n",
        "                                        'Microrregioes', 'Mesorregioes', 'Principal_Micro'])"
      ]
    },
    {
      "cell_type": "markdown",
      "id": "432c4fb2",
      "metadata": {},
      "source": [
        "## Visualização dos dados {.scrollable}\n",
        "\n",
        "::: {.panel-tabset}\n",
        "\n",
        "### PIB\n",
        ":::: {.columns}\n",
        "\n",
        ":::: {.column width=\"50%\"}\n"
      ]
    },
    {
      "cell_type": "code",
      "execution_count": null,
      "id": "ce41fb17",
      "metadata": {},
      "outputs": [],
      "source": [
        "graphics_point(cidades[cidades['Vezes_top_4'] > 0 ], x='Vezes_top_4', y='PIB_2019', size='Quantidade_Primeiro', text_label='Cidade', hue='Mesorregioes', \n",
        "                title='PIB e Futebol se relacionam?', xlabel='Quantidade de vezes da cidade no top 4 do Gauchão', ylabel='PIB em 2019', \n",
        "                label_legend='Títulos da Cidade', title_legend='Mesorregiões',\n",
        "                high=['Porto Alegre', 'Pelotas', 'Caxias do Sul', 'Bagé', 'Rio Grande', 'Santa Maria', 'Novo Hamburgo'] )"
      ]
    },
    {
      "cell_type": "markdown",
      "id": "0f05c452",
      "metadata": {},
      "source": [
        "::::\n",
        "\n",
        ":::: {.column width=\"50%\"}\n"
      ]
    },
    {
      "cell_type": "code",
      "execution_count": null,
      "id": "6287ce7b",
      "metadata": {},
      "outputs": [],
      "source": [
        "graphics_point_m(cidades[cidades['Vezes_top_4_Multiverso'] > 0 ], x='Vezes_top_4_Multiverso', y='PIB_2019', size='Quantidade_Primeiro_Multiverso', text_label='Cidade', hue='Mesorregioes', \n",
        "                title='PIB e Futebol se relacionam?', xlabel='Quantidade de vezes da cidade no top 4 do Gauchão', ylabel='PIB em 2019', \n",
        "                label_legend='Títulos da Cidade', title_legend='Mesorregiões',\n",
        "                high=['Porto Alegre', 'Pelotas', 'Caxias do Sul', 'Bagé', 'Rio Grande', 'Santa Maria', 'Novo Hamburgo'] )"
      ]
    },
    {
      "cell_type": "markdown",
      "id": "d0e61d61",
      "metadata": {},
      "source": [
        "::::\n",
        "\n",
        "::::\n",
        "\n",
        "### IDH\n",
        "\n",
        ":::: {.columns}\n",
        "\n",
        ":::: {.column width=\"50%\"}\n"
      ]
    },
    {
      "cell_type": "code",
      "execution_count": null,
      "id": "c90a0e67",
      "metadata": {},
      "outputs": [],
      "source": [
        "graphics_point(cidades, 'Vezes_top_4', 'IDH_2010', 'Quantidade_Primeiro', 'Cidade', 'Principal_Micro', 'IDH e Futebol se relacionam?',\n",
        "                'Quantidade de vezes da cidade no top 4 do Gauchão', 'IDH em 2010', 'Títulos da Cidade', 'Importância da Cidade',\n",
        "                ['Porto Alegre', 'Pelotas', 'Caxias do Sul', 'Bagé', 'Rio Grande', 'Santa Maria', 'Novo Hamburgo'] )"
      ]
    },
    {
      "cell_type": "markdown",
      "id": "64166631",
      "metadata": {},
      "source": [
        "::::\n",
        "\n",
        ":::: {.column width=\"50%\"}\n"
      ]
    },
    {
      "cell_type": "code",
      "execution_count": null,
      "id": "4292f797",
      "metadata": {},
      "outputs": [],
      "source": [
        "graphics_point_m(cidades, 'Vezes_top_4_Multiverso', 'IDH_2010', 'Quantidade_Primeiro_Multiverso', 'Cidade', 'Principal_Micro', 'IDH e Futebol se relacionam?',\n",
        "                'Quantidade de vezes da cidade no top 4 do Gauchão', 'IDH em 2010', 'Títulos da Cidade', 'Importância da Cidade',\n",
        "                ['Porto Alegre', 'Pelotas', 'Caxias do Sul', 'Bagé', 'Rio Grande', 'Santa Maria', 'Novo Hamburgo'] )"
      ]
    },
    {
      "cell_type": "markdown",
      "id": "094660d2",
      "metadata": {},
      "source": [
        "::::\n",
        "\n",
        "::::\n",
        "\n",
        "### PIB per capita\n",
        "\n",
        ":::: {.columns}\n",
        "\n",
        ":::: {.column width=\"50%\"}\n"
      ]
    },
    {
      "cell_type": "code",
      "execution_count": null,
      "id": "1ef890a7",
      "metadata": {},
      "outputs": [],
      "source": [
        "graphics_point(cidades[cidades['Vezes_top_4'] > 0 ], x='Vezes_top_4', y='PIB_per_capita_2019', size='Quantidade_Primeiro', text_label='Cidade', hue='Principal_Micro', \n",
        "                title='PIB per capita e Futebol se relacionam?', xlabel='Quantidade de vezes da cidade no top 4 do Gauchão', ylabel='Pib per capita em 2021', \n",
        "                label_legend='Títulos da Cidade', title_legend='Importância das Cidades',\n",
        "                high=['Porto Alegre', 'Pelotas', 'Caxias do Sul', 'Bagé', 'Rio Grande', 'Santa Maria', 'Novo Hamburgo'] )"
      ]
    },
    {
      "cell_type": "markdown",
      "id": "4edea31a",
      "metadata": {},
      "source": [
        "::::\n",
        "\n",
        ":::: {.column width=\"50%\"}\n"
      ]
    },
    {
      "cell_type": "code",
      "execution_count": null,
      "id": "a77f4481",
      "metadata": {},
      "outputs": [],
      "source": [
        "graphics_point_m(cidades[cidades['Vezes_top_4_Multiverso'] > 0 ], x='Vezes_top_4_Multiverso', y='PIB_per_capita_2019', size='Quantidade_Primeiro_Multiverso', text_label='Cidade', hue='Mesorregioes', \n",
        "                title='PIB per capita e Futebol se relacionam?', xlabel='Quantidade de vezes da cidade no top 4 do Gauchão', ylabel='População em 2021', \n",
        "                label_legend='Títulos da Cidade', title_legend='Mesorregiões',\n",
        "                high=['Porto Alegre', 'Pelotas', 'Caxias do Sul', 'Bagé', 'Rio Grande', 'Santa Maria', 'Novo Hamburgo'] )"
      ]
    },
    {
      "cell_type": "markdown",
      "id": "468b82e3",
      "metadata": {},
      "source": [
        "::::\n",
        "\n",
        "::::\n",
        "\n",
        "### População\n",
        "\n",
        ":::: {.columns}\n",
        "\n",
        ":::: {.column width=\"50%\"}\n"
      ]
    },
    {
      "cell_type": "code",
      "execution_count": null,
      "id": "292b3c23",
      "metadata": {},
      "outputs": [],
      "source": [
        "graphics_point(cidades[cidades['Vezes_top_4'] > 0 ], x='Vezes_top_4', y='Populacao_2021', size='Quantidade_Primeiro', text_label='Cidade', hue='Principal_Micro', \n",
        "                title='Quantidade populacional e Futebol se relacionam?', xlabel='Quantidade de vezes da cidade no top 4 do Gauchão', ylabel='Pib per capita em 2021', \n",
        "                label_legend='Títulos da Cidade', title_legend='Importância das Cidades',\n",
        "                high=['Porto Alegre', 'Pelotas', 'Caxias do Sul', 'Bagé', 'Rio Grande', 'Santa Maria', 'Novo Hamburgo'] )"
      ]
    },
    {
      "cell_type": "markdown",
      "id": "d88b311b",
      "metadata": {},
      "source": [
        "::::\n",
        "\n",
        ":::: {.column width=\"50%\"}\n"
      ]
    },
    {
      "cell_type": "code",
      "execution_count": null,
      "id": "7ad62c99",
      "metadata": {},
      "outputs": [],
      "source": [
        "graphics_point_m(cidades[cidades['Vezes_top_4_Multiverso'] > 0 ], x='Vezes_top_4_Multiverso', y='Populacao_2021', size='Quantidade_Primeiro_Multiverso', text_label='Cidade', hue='Mesorregioes', \n",
        "                title='Quantidade populacional e Futebol se relacionam?', xlabel='Quantidade de vezes da cidade no top 4 do Gauchão', ylabel='População em 2021', \n",
        "                label_legend='Títulos da Cidade', title_legend='Mesorregiões',\n",
        "                high=['Porto Alegre', 'Pelotas', 'Caxias do Sul', 'Bagé', 'Rio Grande', 'Santa Maria', 'Novo Hamburgo'] )"
      ]
    },
    {
      "cell_type": "markdown",
      "id": "ae545bfe",
      "metadata": {},
      "source": [
        "::::\n",
        "\n",
        "::::\n",
        "\n",
        ":::\n",
        "\n",
        "\n",
        "## Opiniões sobre Python\n",
        "\n",
        "::: {.incremental}\n",
        "- Tidyverse > Pandas;\n",
        "- GGplot2 >>>>>>>>>>>>>>> Seaborn >>> Matplotlib;\n",
        "- Tratamento de strings do Python > R;\n",
        "- Velocidade de execução Python > R;\n",
        "- Quarto > Xaringan.\n",
        ":::\n",
        "\n",
        "![](http://pa1.narvii.com/6493/426703dd6c36995d6762b1e15e1ea37cab1fa762_00.gif){.absolute top=480 right=70 width=\"450\" height=\"200\"}"
      ]
    }
  ],
  "metadata": {
    "interpreter": {
      "hash": "8d865f01d5794251ec8788722395252895cf9260f6d0494b8276217fe7cbb0cd"
    },
    "kernelspec": {
      "display_name": "Python 3.10.4 64-bit",
      "language": "python",
      "name": "python3"
    },
    "language_info": {
      "codemirror_mode": {
        "name": "ipython",
        "version": 3
      },
      "file_extension": ".py",
      "mimetype": "text/x-python",
      "name": "python",
      "nbconvert_exporter": "python",
      "pygments_lexer": "ipython3",
      "version": "3.10.4"
    }
  },
  "nbformat": 4,
  "nbformat_minor": 5
}
