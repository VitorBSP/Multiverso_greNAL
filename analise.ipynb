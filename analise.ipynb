{
 "cells": [
  {
   "cell_type": "markdown",
   "metadata": {},
   "source": [
    "# Importação de bibliotecas e dados"
   ]
  },
  {
   "cell_type": "code",
   "execution_count": 1,
   "metadata": {},
   "outputs": [],
   "source": [
    "import pandas as pd\n",
    "import numpy as np"
   ]
  },
  {
   "cell_type": "code",
   "execution_count": 6,
   "metadata": {},
   "outputs": [],
   "source": [
    "campeonatos = pd.read_csv('campeonatos_gauchos_tratado.csv', sep=',', encoding='utf-8', \n",
    "                            dtype=({'Edicao': np.uint8, 'Ano' : np.uint16, 'Artilheiro' : object, \n",
    "                            'Primeiro' : 'category' , 'Segundo' : 'category', 'Terceiro' : 'category', \n",
    "                            'Quarto' : 'category', 'Cidade_Primeiro' : 'category' , \n",
    "                            'Cidade_Segundo' : 'category', 'Cidade_Terceiro' : 'category', \n",
    "                            'Cidade_Quarto' : 'category', 'N_de_gols' : 'Int8'}))\n",
    "times = pd.read_csv('times_gauchos_tratado.csv', sep=',', encoding='utf-8', \n",
    "                    dtype = ({'Apelido': 'category', 'Nome' : 'category', 'Cidade': 'category'}))"
   ]
  },
  {
   "cell_type": "code",
   "execution_count": 8,
   "metadata": {},
   "outputs": [
    {
     "data": {
      "text/plain": [
       "Apelido     category\n",
       "Nome        category\n",
       "Cidade      category\n",
       "Fundacao      object\n",
       "dtype: object"
      ]
     },
     "execution_count": 8,
     "metadata": {},
     "output_type": "execute_result"
    }
   ],
   "source": [
    "campeonatos.dtypes\n",
    "times.dtypes"
   ]
  },
  {
   "cell_type": "code",
   "execution_count": 9,
   "metadata": {},
   "outputs": [
    {
     "data": {
      "text/html": [
       "<div>\n",
       "<style scoped>\n",
       "    .dataframe tbody tr th:only-of-type {\n",
       "        vertical-align: middle;\n",
       "    }\n",
       "\n",
       "    .dataframe tbody tr th {\n",
       "        vertical-align: top;\n",
       "    }\n",
       "\n",
       "    .dataframe thead th {\n",
       "        text-align: right;\n",
       "    }\n",
       "</style>\n",
       "<table border=\"1\" class=\"dataframe\">\n",
       "  <thead>\n",
       "    <tr style=\"text-align: right;\">\n",
       "      <th></th>\n",
       "      <th>Edicao</th>\n",
       "      <th>Ano</th>\n",
       "      <th>Primeiro</th>\n",
       "      <th>Segundo</th>\n",
       "      <th>Terceiro</th>\n",
       "      <th>Quarto</th>\n",
       "      <th>Artilheiro</th>\n",
       "      <th>N_de_gols</th>\n",
       "      <th>Cidade_Primeiro</th>\n",
       "      <th>Cidade_Segundo</th>\n",
       "      <th>Cidade_Terceiro</th>\n",
       "      <th>Cidade_Quarto</th>\n",
       "    </tr>\n",
       "  </thead>\n",
       "  <tbody>\n",
       "    <tr>\n",
       "      <th>0</th>\n",
       "      <td>1</td>\n",
       "      <td>1919</td>\n",
       "      <td>Brasil de Pelotas</td>\n",
       "      <td>Grêmio</td>\n",
       "      <td>NaN</td>\n",
       "      <td>NaN</td>\n",
       "      <td>ProençaBrasil de Pelotas</td>\n",
       "      <td>3</td>\n",
       "      <td>Pelotas</td>\n",
       "      <td>Porto Alegre</td>\n",
       "      <td>NaN</td>\n",
       "      <td>NaN</td>\n",
       "    </tr>\n",
       "    <tr>\n",
       "      <th>1</th>\n",
       "      <td>2</td>\n",
       "      <td>1920</td>\n",
       "      <td>Guarany de Bagé</td>\n",
       "      <td>Grêmio</td>\n",
       "      <td>Uruguaiana</td>\n",
       "      <td>NaN</td>\n",
       "      <td>GreccoGuarany de Bagé</td>\n",
       "      <td>2</td>\n",
       "      <td>Bagé</td>\n",
       "      <td>Porto Alegre</td>\n",
       "      <td>Uruguaiana</td>\n",
       "      <td>NaN</td>\n",
       "    </tr>\n",
       "    <tr>\n",
       "      <th>2</th>\n",
       "      <td>3</td>\n",
       "      <td>1921</td>\n",
       "      <td>Grêmio</td>\n",
       "      <td>Riograndense-SM</td>\n",
       "      <td>Brasil de Pelotas</td>\n",
       "      <td>Uruguaiana</td>\n",
       "      <td>MosquitoRiograndense</td>\n",
       "      <td>3</td>\n",
       "      <td>Porto Alegre</td>\n",
       "      <td>Santa Maria</td>\n",
       "      <td>Pelotas</td>\n",
       "      <td>Uruguaiana</td>\n",
       "    </tr>\n",
       "    <tr>\n",
       "      <th>3</th>\n",
       "      <td>4</td>\n",
       "      <td>1922</td>\n",
       "      <td>Grêmio</td>\n",
       "      <td>Guarani de Alegrete</td>\n",
       "      <td>Guarany de Cruz Alta</td>\n",
       "      <td>Bagé</td>\n",
       "      <td>LagartoGrêmio</td>\n",
       "      <td>5</td>\n",
       "      <td>Porto Alegre</td>\n",
       "      <td>Alegrete</td>\n",
       "      <td>Cruz Alta</td>\n",
       "      <td>Bagé</td>\n",
       "    </tr>\n",
       "    <tr>\n",
       "      <th>4</th>\n",
       "      <td>5</td>\n",
       "      <td>1925</td>\n",
       "      <td>Bagé</td>\n",
       "      <td>Grêmio</td>\n",
       "      <td>Guarany de Cruz Alta</td>\n",
       "      <td>Grêmio Santanense</td>\n",
       "      <td>PascoalitoBagé</td>\n",
       "      <td>&lt;NA&gt;</td>\n",
       "      <td>Bagé</td>\n",
       "      <td>Porto Alegre</td>\n",
       "      <td>Cruz Alta</td>\n",
       "      <td>Santana do Livramento</td>\n",
       "    </tr>\n",
       "    <tr>\n",
       "      <th>5</th>\n",
       "      <td>6</td>\n",
       "      <td>1926</td>\n",
       "      <td>Grêmio</td>\n",
       "      <td>Guarany de Bagé</td>\n",
       "      <td>Guarany-CS</td>\n",
       "      <td>Independente</td>\n",
       "      <td>CoróGrêmio</td>\n",
       "      <td>&lt;NA&gt;</td>\n",
       "      <td>Porto Alegre</td>\n",
       "      <td>Bagé</td>\n",
       "      <td>Cachoeira do Sul</td>\n",
       "      <td>Santana do Livramento</td>\n",
       "    </tr>\n",
       "  </tbody>\n",
       "</table>\n",
       "</div>"
      ],
      "text/plain": [
       "   Edicao   Ano           Primeiro              Segundo              Terceiro  \\\n",
       "0       1  1919  Brasil de Pelotas              Grêmio                   NaN   \n",
       "1       2  1920   Guarany de Bagé              Grêmio            Uruguaiana   \n",
       "2       3  1921            Grêmio      Riograndense-SM     Brasil de Pelotas   \n",
       "3       4  1922            Grêmio  Guarani de Alegrete  Guarany de Cruz Alta   \n",
       "4       5  1925              Bagé              Grêmio  Guarany de Cruz Alta   \n",
       "5       6  1926            Grêmio     Guarany de Bagé            Guarany-CS   \n",
       "\n",
       "               Quarto                Artilheiro  N_de_gols Cidade_Primeiro  \\\n",
       "0                 NaN  ProençaBrasil de Pelotas          3         Pelotas   \n",
       "1                 NaN     GreccoGuarany de Bagé          2            Bagé   \n",
       "2          Uruguaiana      MosquitoRiograndense          3    Porto Alegre   \n",
       "3               Bagé             LagartoGrêmio          5    Porto Alegre   \n",
       "4  Grêmio Santanense            PascoalitoBagé       <NA>            Bagé   \n",
       "5        Independente                CoróGrêmio       <NA>    Porto Alegre   \n",
       "\n",
       "  Cidade_Segundo   Cidade_Terceiro          Cidade_Quarto  \n",
       "0   Porto Alegre               NaN                    NaN  \n",
       "1   Porto Alegre        Uruguaiana                    NaN  \n",
       "2    Santa Maria           Pelotas             Uruguaiana  \n",
       "3       Alegrete         Cruz Alta                   Bagé  \n",
       "4   Porto Alegre         Cruz Alta  Santana do Livramento  \n",
       "5           Bagé  Cachoeira do Sul  Santana do Livramento  "
      ]
     },
     "execution_count": 9,
     "metadata": {},
     "output_type": "execute_result"
    }
   ],
   "source": [
    "campeonatos.head(6)"
   ]
  },
  {
   "cell_type": "code",
   "execution_count": 28,
   "metadata": {},
   "outputs": [],
   "source": [
    "times['Fundacao'] = pd.to_datetime(times['Fundacao'], infer_datetime_format= False, dayfirst=True, format = '%d/%m/%Y', errors = 'coerce')"
   ]
  },
  {
   "cell_type": "code",
   "execution_count": 29,
   "metadata": {},
   "outputs": [
    {
     "data": {
      "text/plain": [
       "Apelido           category\n",
       "Nome              category\n",
       "Cidade            category\n",
       "Fundacao    datetime64[ns]\n",
       "dtype: object"
      ]
     },
     "execution_count": 29,
     "metadata": {},
     "output_type": "execute_result"
    }
   ],
   "source": [
    "times.dtypes"
   ]
  }
 ],
 "metadata": {
  "interpreter": {
   "hash": "a077222d77dfe082b8f1dd562ad70e458ac2ab76993a0b248ab0476e32e9e8dd"
  },
  "kernelspec": {
   "display_name": "Python 3.8.8 ('base')",
   "language": "python",
   "name": "python3"
  },
  "language_info": {
   "codemirror_mode": {
    "name": "ipython",
    "version": 3
   },
   "file_extension": ".py",
   "mimetype": "text/x-python",
   "name": "python",
   "nbconvert_exporter": "python",
   "pygments_lexer": "ipython3",
   "version": "3.8.8"
  },
  "orig_nbformat": 4
 },
 "nbformat": 4,
 "nbformat_minor": 2
}
