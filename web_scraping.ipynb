{
  "cells": [
    {
      "cell_type": "code",
      "execution_count": 1,
      "metadata": {
        "id": "r-mwAC_3S8pU"
      },
      "outputs": [],
      "source": [
        "import urllib as urlr\n",
        "from bs4 import BeautifulSoup\n",
        "import pandas as pd\n",
        "import ssl\n",
        "import numpy as np"
      ]
    },
    {
      "cell_type": "markdown",
      "metadata": {
        "id": "TyEvc7N3NEkc"
      },
      "source": [
        "# DataFrame dos Times e suas Cidades"
      ]
    },
    {
      "cell_type": "code",
      "execution_count": 2,
      "metadata": {
        "id": "bq9zWKomanr8"
      },
      "outputs": [],
      "source": [
        "req = urlr.request.Request('https://bolaamarelafc.com.br/clubes/clubes-do-brasil/rio-grande-do-sul/#', headers={'User-Agent': 'Mozilla/5.0 (Macintosh; Intel Mac OS X 10_9_3) AppleWebKit/537.36 (KHTML, like Gecko) Chrome/35.0.1916.47 Safari/537.36'})\n",
        "html = urlr.request.urlopen(req)"
      ]
    },
    {
      "cell_type": "code",
      "execution_count": 3,
      "metadata": {
        "id": "uoLVasfkVr_r"
      },
      "outputs": [],
      "source": [
        "bs = BeautifulSoup(html, 'html.parser')"
      ]
    },
    {
      "cell_type": "code",
      "execution_count": 4,
      "metadata": {
        "colab": {
          "base_uri": "https://localhost:8080/"
        },
        "id": "4wD6j74TW11E",
        "outputId": "afad9fe1-a349-4212-afee-c3447aab9de3"
      },
      "outputs": [
        {
          "data": {
            "text/plain": [
              "<p style=\"text-align: center;\"><img alt=\"\" src=\"https://i0.wp.com/bolaamarelafc.com.br/wp-content/uploads/2020/05/1_escudo_oficial_plastico.png?fit=300%2C300&amp;ssl=1\" style=\"\"/></p>"
            ]
          },
          "execution_count": 4,
          "metadata": {},
          "output_type": "execute_result"
        }
      ],
      "source": [
        "linhas = bs.find_all('p', {'style':'text-align: center;'})\n",
        "linhas.pop(-1)"
      ]
    },
    {
      "cell_type": "code",
      "execution_count": 5,
      "metadata": {
        "id": "k5ATaF0gobuq"
      },
      "outputs": [],
      "source": [
        "apelido = []\n",
        "nome = []\n",
        "cidade = []\n",
        "funda = []"
      ]
    },
    {
      "cell_type": "code",
      "execution_count": 6,
      "metadata": {
        "id": "PW2Lu7lsgS3T"
      },
      "outputs": [],
      "source": [
        "for i in linhas:\n",
        "  time = i.get_text(strip=True, separator='\\n').splitlines()\n",
        "  apelido.append(time[0])\n",
        "  nome.append(time[1])\n",
        "  cidade.append(time[2])\n",
        "  funda.append(time[3])\n"
      ]
    },
    {
      "cell_type": "code",
      "execution_count": 7,
      "metadata": {
        "id": "-j39OAi5rRYQ"
      },
      "outputs": [],
      "source": [
        "funda = list(map(lambda x: x.replace(\"Fundação: \",\"\") ,funda))\n",
        "cidade = list(map(lambda x: x.replace(\"Município: \",\"\") ,cidade))\n",
        "#funda.replace(\"Fundação: \", \"\")"
      ]
    },
    {
      "cell_type": "code",
      "execution_count": 8,
      "metadata": {
        "colab": {
          "base_uri": "https://localhost:8080/",
          "height": 424
        },
        "id": "P9gZEDMnptCS",
        "outputId": "71fc4777-eb9f-475e-ee2b-e809acf983f0"
      },
      "outputs": [
        {
          "data": {
            "text/html": [
              "<div>\n",
              "<style scoped>\n",
              "    .dataframe tbody tr th:only-of-type {\n",
              "        vertical-align: middle;\n",
              "    }\n",
              "\n",
              "    .dataframe tbody tr th {\n",
              "        vertical-align: top;\n",
              "    }\n",
              "\n",
              "    .dataframe thead th {\n",
              "        text-align: right;\n",
              "    }\n",
              "</style>\n",
              "<table border=\"1\" class=\"dataframe\">\n",
              "  <thead>\n",
              "    <tr style=\"text-align: right;\">\n",
              "      <th></th>\n",
              "      <th>Apelido</th>\n",
              "      <th>Nome</th>\n",
              "      <th>Cidade</th>\n",
              "      <th>Fundacao</th>\n",
              "    </tr>\n",
              "  </thead>\n",
              "  <tbody>\n",
              "    <tr>\n",
              "      <th>0</th>\n",
              "      <td>12 Horas</td>\n",
              "      <td>Esporte Clube 12 Horas</td>\n",
              "      <td>Porto Alegre</td>\n",
              "      <td>14/08/2001</td>\n",
              "    </tr>\n",
              "    <tr>\n",
              "      <th>1</th>\n",
              "      <td>14 de Julho de Passo Fundo</td>\n",
              "      <td>Grêmio Esportivo e Recreativo 14 de Julho</td>\n",
              "      <td>Passo Fundo</td>\n",
              "      <td>27/06/1921</td>\n",
              "    </tr>\n",
              "    <tr>\n",
              "      <th>2</th>\n",
              "      <td>15 de Campo Bom</td>\n",
              "      <td>Clube 15 de Novembro</td>\n",
              "      <td>Campo Bom</td>\n",
              "      <td>15/11/1911</td>\n",
              "    </tr>\n",
              "    <tr>\n",
              "      <th>3</th>\n",
              "      <td>Aimoré</td>\n",
              "      <td>Clube Esportivo Aimoré</td>\n",
              "      <td>São Leopoldo</td>\n",
              "      <td>26/03/1936</td>\n",
              "    </tr>\n",
              "    <tr>\n",
              "      <th>4</th>\n",
              "      <td>Americano</td>\n",
              "      <td>Sport Club Americano</td>\n",
              "      <td>Porto Alegre</td>\n",
              "      <td>04/07/1912</td>\n",
              "    </tr>\n",
              "    <tr>\n",
              "      <th>...</th>\n",
              "      <td>...</td>\n",
              "      <td>...</td>\n",
              "      <td>...</td>\n",
              "      <td>...</td>\n",
              "    </tr>\n",
              "    <tr>\n",
              "      <th>66</th>\n",
              "      <td>Tupi</td>\n",
              "      <td>Tupi Futebol Clube</td>\n",
              "      <td>Crissiumal</td>\n",
              "      <td>01/05/1949</td>\n",
              "    </tr>\n",
              "    <tr>\n",
              "      <th>67</th>\n",
              "      <td>União Frederiquense</td>\n",
              "      <td>União Frederiquense de Futebol</td>\n",
              "      <td>Frederico Westphalen</td>\n",
              "      <td>03/08/2010</td>\n",
              "    </tr>\n",
              "    <tr>\n",
              "      <th>68</th>\n",
              "      <td>União Harmonia</td>\n",
              "      <td>União Harmonia Futebol Clube</td>\n",
              "      <td>Canoas</td>\n",
              "      <td>23/05/1954</td>\n",
              "    </tr>\n",
              "    <tr>\n",
              "      <th>69</th>\n",
              "      <td>Veranópolis</td>\n",
              "      <td>Veranópolis Esporte Clube Recreativo e Cultural</td>\n",
              "      <td>Veranópolis</td>\n",
              "      <td>15/01/1992</td>\n",
              "    </tr>\n",
              "    <tr>\n",
              "      <th>70</th>\n",
              "      <td>Ypiranga</td>\n",
              "      <td>Ypiranga Futebol Clube</td>\n",
              "      <td>Erechim</td>\n",
              "      <td>18/08/1924</td>\n",
              "    </tr>\n",
              "  </tbody>\n",
              "</table>\n",
              "<p>71 rows × 4 columns</p>\n",
              "</div>"
            ],
            "text/plain": [
              "                       Apelido  \\\n",
              "0                     12 Horas   \n",
              "1   14 de Julho de Passo Fundo   \n",
              "2              15 de Campo Bom   \n",
              "3                       Aimoré   \n",
              "4                    Americano   \n",
              "..                         ...   \n",
              "66                        Tupi   \n",
              "67         União Frederiquense   \n",
              "68              União Harmonia   \n",
              "69                 Veranópolis   \n",
              "70                    Ypiranga   \n",
              "\n",
              "                                               Nome                Cidade  \\\n",
              "0                            Esporte Clube 12 Horas          Porto Alegre   \n",
              "1         Grêmio Esportivo e Recreativo 14 de Julho           Passo Fundo   \n",
              "2                              Clube 15 de Novembro             Campo Bom   \n",
              "3                            Clube Esportivo Aimoré          São Leopoldo   \n",
              "4                              Sport Club Americano          Porto Alegre   \n",
              "..                                              ...                   ...   \n",
              "66                               Tupi Futebol Clube            Crissiumal   \n",
              "67                   União Frederiquense de Futebol  Frederico Westphalen   \n",
              "68                     União Harmonia Futebol Clube                Canoas   \n",
              "69  Veranópolis Esporte Clube Recreativo e Cultural           Veranópolis   \n",
              "70                           Ypiranga Futebol Clube               Erechim   \n",
              "\n",
              "      Fundacao  \n",
              "0   14/08/2001  \n",
              "1   27/06/1921  \n",
              "2   15/11/1911  \n",
              "3   26/03/1936  \n",
              "4   04/07/1912  \n",
              "..         ...  \n",
              "66  01/05/1949  \n",
              "67  03/08/2010  \n",
              "68  23/05/1954  \n",
              "69  15/01/1992  \n",
              "70  18/08/1924  \n",
              "\n",
              "[71 rows x 4 columns]"
            ]
          },
          "execution_count": 8,
          "metadata": {},
          "output_type": "execute_result"
        }
      ],
      "source": [
        "df = pd.DataFrame({'Apelido': apelido, 'Nome': nome, 'Cidade': cidade, 'Fundacao': funda})\n",
        "df"
      ]
    },
    {
      "cell_type": "markdown",
      "metadata": {
        "id": "U1iIXKfANNZl"
      },
      "source": [
        "# DataFrame dos campeões"
      ]
    },
    {
      "cell_type": "code",
      "execution_count": 9,
      "metadata": {
        "id": "S8aK1wsiNQF9"
      },
      "outputs": [],
      "source": [
        "context = ssl._create_unverified_context()\n",
        "url = 'https://pt.wikipedia.org/'\n",
        "path = urlr.parse.quote('wiki/Campeonato_Gaúcho_de_Futebol')\n",
        "page = urlr.request.urlopen(url + path, context=context)"
      ]
    },
    {
      "cell_type": "code",
      "execution_count": 10,
      "metadata": {
        "id": "hm_EUf9pS_PR"
      },
      "outputs": [],
      "source": [
        "bs1 = BeautifulSoup(page, 'html.parser')"
      ]
    },
    {
      "cell_type": "code",
      "execution_count": 11,
      "metadata": {
        "id": "kXQI4rLbUF6V"
      },
      "outputs": [],
      "source": [
        "table = bs1.find_all('table', {'style':'width:80%; font-size:90%'})"
      ]
    },
    {
      "cell_type": "code",
      "execution_count": 12,
      "metadata": {
        "id": "qcGMwfLbUpdl"
      },
      "outputs": [],
      "source": [
        "table1 = table[1]\n",
        "table0 = table[0]"
      ]
    },
    {
      "cell_type": "code",
      "execution_count": 13,
      "metadata": {
        "id": "k2YDa99kU5s3"
      },
      "outputs": [],
      "source": [
        "table_body = table1.find('tbody')\n",
        "rows = table_body.find_all('tr')\n",
        "table_body0 = table0.find('tbody')\n",
        "rows0 = table_body0.find_all('tr')\n"
      ]
    },
    {
      "cell_type": "code",
      "execution_count": 14,
      "metadata": {
        "colab": {
          "base_uri": "https://localhost:8080/"
        },
        "id": "TDHVmbF5cich",
        "outputId": "7083b171-f494-456c-de92-5d48649c05dc"
      },
      "outputs": [
        {
          "data": {
            "text/plain": [
              "<tr>\n",
              "<th width=\"3%\">Edição\n",
              "</th>\n",
              "<th width=\"5%\">Ano\n",
              "</th>\n",
              "<th width=\"21%\">Campeão\n",
              "</th>\n",
              "<th width=\"21%\">Vice-campeão\n",
              "</th>\n",
              "<th width=\"21%\">Terceiro colocado\n",
              "</th>\n",
              "<th width=\"21%\">Quarto colocado\n",
              "</th>\n",
              "<th width=\"21%\">Artilheiro(s)\n",
              "</th>\n",
              "<th width=\"3%\">Gols\n",
              "</th></tr>"
            ]
          },
          "execution_count": 14,
          "metadata": {},
          "output_type": "execute_result"
        }
      ],
      "source": [
        "rows.pop(0)"
      ]
    },
    {
      "cell_type": "code",
      "execution_count": 15,
      "metadata": {
        "colab": {
          "base_uri": "https://localhost:8080/"
        },
        "id": "KCPCGl12gVHO",
        "outputId": "d0cf948a-9519-477f-b8e2-820a4f7860b5"
      },
      "outputs": [
        {
          "data": {
            "text/plain": [
              "<tr>\n",
              "<th width=\"3%\">Edição\n",
              "</th>\n",
              "<th width=\"5%\">Ano\n",
              "</th>\n",
              "<th width=\"21%\">Campeão\n",
              "</th>\n",
              "<th width=\"21%\">Vice-campeão\n",
              "</th>\n",
              "<th width=\"21%\">Terceiro colocado\n",
              "</th>\n",
              "<th width=\"21%\">Quarto colocado\n",
              "</th>\n",
              "<th width=\"21%\">Artilheiro(s)\n",
              "</th>\n",
              "<th width=\"3%\">Gols\n",
              "</th></tr>"
            ]
          },
          "execution_count": 15,
          "metadata": {},
          "output_type": "execute_result"
        }
      ],
      "source": [
        "rows0.pop(0)\n"
      ]
    },
    {
      "cell_type": "code",
      "execution_count": 16,
      "metadata": {
        "id": "V8La47wNjUo6"
      },
      "outputs": [],
      "source": [
        "del rows0[4:6]"
      ]
    },
    {
      "cell_type": "code",
      "execution_count": 17,
      "metadata": {
        "id": "J0yAmZSmWS4q"
      },
      "outputs": [],
      "source": [
        "edicao = []\n",
        "ano = []\n",
        "primeiro = []\n",
        "segundo = []\n",
        "terceiro = []\n",
        "quarto = []\n",
        "artilheiro = []\n",
        "gols = []\n"
      ]
    },
    {
      "cell_type": "code",
      "execution_count": 18,
      "metadata": {
        "id": "O2GtmCO7XXLD"
      },
      "outputs": [],
      "source": [
        "for i in rows0:\n",
        "  time = i.get_text().splitlines()\n",
        "  edicao.append(time[1])\n",
        "  ano.append(time[3])\n",
        "  primeiro.append(time[5])\n",
        "  segundo.append(time[7])\n",
        "  terceiro.append(time[9])\n",
        "  quarto.append(time[11])\n",
        "  artilheiro.append(time[13])\n",
        "  gols.append(time[15])\n",
        "\n",
        "for i in rows:\n",
        "  time = i.get_text().splitlines()\n",
        "  edicao.append(time[1])\n",
        "  ano.append(time[3])\n",
        "  primeiro.append(time[5])\n",
        "  segundo.append(time[7])\n",
        "  terceiro.append(time[9])\n",
        "  quarto.append(time[11])\n",
        "  artilheiro.append(time[13])\n",
        "  gols.append(time[15])"
      ]
    },
    {
      "cell_type": "code",
      "execution_count": 19,
      "metadata": {
        "colab": {
          "base_uri": "https://localhost:8080/",
          "height": 424
        },
        "id": "0Y1kEPW1jnqz",
        "outputId": "79456e82-609b-4307-be04-761205de4627"
      },
      "outputs": [
        {
          "data": {
            "text/html": [
              "<div>\n",
              "<style scoped>\n",
              "    .dataframe tbody tr th:only-of-type {\n",
              "        vertical-align: middle;\n",
              "    }\n",
              "\n",
              "    .dataframe tbody tr th {\n",
              "        vertical-align: top;\n",
              "    }\n",
              "\n",
              "    .dataframe thead th {\n",
              "        text-align: right;\n",
              "    }\n",
              "</style>\n",
              "<table border=\"1\" class=\"dataframe\">\n",
              "  <thead>\n",
              "    <tr style=\"text-align: right;\">\n",
              "      <th></th>\n",
              "      <th>Edicao</th>\n",
              "      <th>Ano</th>\n",
              "      <th>Primeiro</th>\n",
              "      <th>Segundo</th>\n",
              "      <th>Terceiro</th>\n",
              "      <th>Quarto</th>\n",
              "      <th>Artilheiro</th>\n",
              "      <th>N_de_gols</th>\n",
              "    </tr>\n",
              "  </thead>\n",
              "  <tbody>\n",
              "    <tr>\n",
              "      <th>0</th>\n",
              "      <td>1ª</td>\n",
              "      <td>1919(detalhes)</td>\n",
              "      <td>Brasil de Pelotas (1)</td>\n",
              "      <td>Grêmio</td>\n",
              "      <td>—</td>\n",
              "      <td>—</td>\n",
              "      <td>ProençaBrasil de Pelotas</td>\n",
              "      <td>3</td>\n",
              "    </tr>\n",
              "    <tr>\n",
              "      <th>1</th>\n",
              "      <td>2ª</td>\n",
              "      <td>1920(detalhes)</td>\n",
              "      <td>Guarany de Bagé (1)</td>\n",
              "      <td>Grêmio</td>\n",
              "      <td>Uruguaiana</td>\n",
              "      <td>—</td>\n",
              "      <td>GreccoGuarany de Bagé</td>\n",
              "      <td>2</td>\n",
              "    </tr>\n",
              "    <tr>\n",
              "      <th>2</th>\n",
              "      <td>3ª</td>\n",
              "      <td>1921(detalhes)</td>\n",
              "      <td>Grêmio  (1)</td>\n",
              "      <td>Riograndense</td>\n",
              "      <td>Brasil de Pelotas</td>\n",
              "      <td>Uruguaiana</td>\n",
              "      <td>MosquitoRiograndense</td>\n",
              "      <td>3</td>\n",
              "    </tr>\n",
              "    <tr>\n",
              "      <th>3</th>\n",
              "      <td>4ª</td>\n",
              "      <td>1922(detalhes)</td>\n",
              "      <td>Grêmio (2)</td>\n",
              "      <td>Guarani de Alegrete</td>\n",
              "      <td>Guarany de Cruz Alta</td>\n",
              "      <td>Bagé</td>\n",
              "      <td>LagartoGrêmio</td>\n",
              "      <td>5</td>\n",
              "    </tr>\n",
              "    <tr>\n",
              "      <th>4</th>\n",
              "      <td>5ª</td>\n",
              "      <td>1925(detalhes)</td>\n",
              "      <td>Bagé (1)</td>\n",
              "      <td>Grêmio</td>\n",
              "      <td>Guarany de Cruz Alta</td>\n",
              "      <td>Grêmio Santanense</td>\n",
              "      <td>PascoalitoBagé</td>\n",
              "      <td>?</td>\n",
              "    </tr>\n",
              "    <tr>\n",
              "      <th>...</th>\n",
              "      <td>...</td>\n",
              "      <td>...</td>\n",
              "      <td>...</td>\n",
              "      <td>...</td>\n",
              "      <td>...</td>\n",
              "      <td>...</td>\n",
              "      <td>...</td>\n",
              "      <td>...</td>\n",
              "    </tr>\n",
              "    <tr>\n",
              "      <th>97</th>\n",
              "      <td>98ª</td>\n",
              "      <td>2018(detalhes)</td>\n",
              "      <td>Grêmio (37)</td>\n",
              "      <td>Brasil de Pelotas</td>\n",
              "      <td>São José-RS</td>\n",
              "      <td>Avenida</td>\n",
              "      <td>Michel  São Luiz</td>\n",
              "      <td>8</td>\n",
              "    </tr>\n",
              "    <tr>\n",
              "      <th>98</th>\n",
              "      <td>99ª</td>\n",
              "      <td>2019(detalhes)</td>\n",
              "      <td>Grêmio  (38)</td>\n",
              "      <td>Internacional</td>\n",
              "      <td>Caxias</td>\n",
              "      <td>São Luiz</td>\n",
              "      <td>Marcão/Rafael Gava São Luiz/Caxias</td>\n",
              "      <td>6</td>\n",
              "    </tr>\n",
              "    <tr>\n",
              "      <th>99</th>\n",
              "      <td>100ª</td>\n",
              "      <td>2020(detalhes)</td>\n",
              "      <td>Grêmio (39)</td>\n",
              "      <td>Caxias</td>\n",
              "      <td>Internacional</td>\n",
              "      <td>Esportivo</td>\n",
              "      <td>Diego Souza Grêmio</td>\n",
              "      <td>9</td>\n",
              "    </tr>\n",
              "    <tr>\n",
              "      <th>100</th>\n",
              "      <td>101ª</td>\n",
              "      <td>2021(detalhes)</td>\n",
              "      <td>Grêmio (40)</td>\n",
              "      <td>Internacional</td>\n",
              "      <td>Juventude</td>\n",
              "      <td>Caxias</td>\n",
              "      <td>Diego Souza Grêmio</td>\n",
              "      <td>7</td>\n",
              "    </tr>\n",
              "    <tr>\n",
              "      <th>101</th>\n",
              "      <td>102ª</td>\n",
              "      <td>2022(detalhes)</td>\n",
              "      <td>Grêmio (41)</td>\n",
              "      <td>Ypiranga de Erechim</td>\n",
              "      <td>Internacional</td>\n",
              "      <td>Brasil de Pelotas</td>\n",
              "      <td>ErickYpiranga de Erechim</td>\n",
              "      <td>6</td>\n",
              "    </tr>\n",
              "  </tbody>\n",
              "</table>\n",
              "<p>102 rows × 8 columns</p>\n",
              "</div>"
            ],
            "text/plain": [
              "    Edicao             Ano                Primeiro               Segundo  \\\n",
              "0       1ª  1919(detalhes)   Brasil de Pelotas (1)                Grêmio   \n",
              "1       2ª  1920(detalhes)     Guarany de Bagé (1)                Grêmio   \n",
              "2       3ª  1921(detalhes)             Grêmio  (1)          Riograndense   \n",
              "3       4ª  1922(detalhes)              Grêmio (2)   Guarani de Alegrete   \n",
              "4       5ª  1925(detalhes)                Bagé (1)                Grêmio   \n",
              "..     ...             ...                     ...                   ...   \n",
              "97     98ª  2018(detalhes)             Grêmio (37)     Brasil de Pelotas   \n",
              "98     99ª  2019(detalhes)            Grêmio  (38)         Internacional   \n",
              "99    100ª  2020(detalhes)             Grêmio (39)                Caxias   \n",
              "100   101ª  2021(detalhes)             Grêmio (40)         Internacional   \n",
              "101   102ª  2022(detalhes)             Grêmio (41)   Ypiranga de Erechim   \n",
              "\n",
              "                  Terceiro              Quarto  \\\n",
              "0                        —                   —   \n",
              "1               Uruguaiana                   —   \n",
              "2        Brasil de Pelotas          Uruguaiana   \n",
              "3     Guarany de Cruz Alta                Bagé   \n",
              "4     Guarany de Cruz Alta   Grêmio Santanense   \n",
              "..                     ...                 ...   \n",
              "97             São José-RS             Avenida   \n",
              "98                  Caxias            São Luiz   \n",
              "99           Internacional           Esportivo   \n",
              "100              Juventude              Caxias   \n",
              "101          Internacional   Brasil de Pelotas   \n",
              "\n",
              "                              Artilheiro N_de_gols  \n",
              "0               ProençaBrasil de Pelotas         3  \n",
              "1                  GreccoGuarany de Bagé         2  \n",
              "2                   MosquitoRiograndense         3  \n",
              "3                          LagartoGrêmio         5  \n",
              "4                         PascoalitoBagé         ?  \n",
              "..                                   ...       ...  \n",
              "97                      Michel  São Luiz         8  \n",
              "98   Marcão/Rafael Gava São Luiz/Caxias          6  \n",
              "99                    Diego Souza Grêmio         9  \n",
              "100                   Diego Souza Grêmio         7  \n",
              "101             ErickYpiranga de Erechim         6  \n",
              "\n",
              "[102 rows x 8 columns]"
            ]
          },
          "execution_count": 19,
          "metadata": {},
          "output_type": "execute_result"
        }
      ],
      "source": [
        "df1 = pd.DataFrame({'Edicao': edicao, 'Ano': ano, 'Primeiro': primeiro,\n",
        "                    'Segundo': segundo, 'Terceiro': terceiro, 'Quarto': quarto,\n",
        "                    'Artilheiro' : artilheiro, 'N_de_gols' : gols})\n",
        "df1"
      ]
    },
    {
      "cell_type": "markdown",
      "metadata": {},
      "source": [
        "# DataFrame das Cidades"
      ]
    },
    {
      "cell_type": "code",
      "execution_count": 17,
      "metadata": {},
      "outputs": [],
      "source": [
        "context = ssl._create_unverified_context()\n",
        "url = 'https://pt.wikipedia.org/'\n",
        "path = urlr.parse.quote('wiki/Lista_de_municípios_do_Rio_Grande_do_Sul_por_população')\n",
        "page = urlr.request.urlopen(url + path, context=context)"
      ]
    },
    {
      "cell_type": "code",
      "execution_count": 18,
      "metadata": {},
      "outputs": [],
      "source": [
        "bs2 = BeautifulSoup(page, 'html.parser')"
      ]
    },
    {
      "cell_type": "code",
      "execution_count": 87,
      "metadata": {},
      "outputs": [],
      "source": [
        "table1 = bs2.find('table').find_all('tr')"
      ]
    },
    {
      "cell_type": "code",
      "execution_count": 88,
      "metadata": {},
      "outputs": [
        {
          "data": {
            "text/plain": [
              "<tr>\n",
              "<td>º</td>\n",
              "<td><b>Total</b></td>\n",
              "<td><b>10 693 929</b></td>\n",
              "<td><b>11 466 630</b>\n",
              "</td></tr>"
            ]
          },
          "execution_count": 88,
          "metadata": {},
          "output_type": "execute_result"
        }
      ],
      "source": [
        "table1.pop(0)\n",
        "table1.pop()"
      ]
    },
    {
      "cell_type": "code",
      "execution_count": 62,
      "metadata": {},
      "outputs": [],
      "source": [
        "for i in table1:\n",
        "    if 'colspan' in i:\n",
        "        del(table1[i])"
      ]
    },
    {
      "cell_type": "code",
      "execution_count": 64,
      "metadata": {},
      "outputs": [],
      "source": [
        "for i in table1:\n",
        "    if pd.isnull(i):\n",
        "        del(table1[i])"
      ]
    },
    {
      "cell_type": "code",
      "execution_count": 107,
      "metadata": {},
      "outputs": [],
      "source": [
        "cidade = []\n",
        "pop_2010 = []\n",
        "pop_2021 = []\n",
        "micro = []\n",
        "meso = []"
      ]
    },
    {
      "cell_type": "code",
      "execution_count": 108,
      "metadata": {},
      "outputs": [],
      "source": [
        "for i in table1:\n",
        "    if len(i) > 2:\n",
        "        city = i.get_text().splitlines()\n",
        "        cidade.append(city[2])\n",
        "        if(city[3] == ''):\n",
        "            p = 1\n",
        "        else:\n",
        "            p=0\n",
        "        pop_2010.append(city[3+p])\n",
        "        pop_2021.append(city[4+p])\n",
        "        micro.append(city[5+p])\n",
        "        meso.append(city[6+p])\n",
        "\n",
        "         "
      ]
    },
    {
      "cell_type": "code",
      "execution_count": 111,
      "metadata": {},
      "outputs": [
        {
          "data": {
            "text/html": [
              "<div>\n",
              "<style scoped>\n",
              "    .dataframe tbody tr th:only-of-type {\n",
              "        vertical-align: middle;\n",
              "    }\n",
              "\n",
              "    .dataframe tbody tr th {\n",
              "        vertical-align: top;\n",
              "    }\n",
              "\n",
              "    .dataframe thead th {\n",
              "        text-align: right;\n",
              "    }\n",
              "</style>\n",
              "<table border=\"1\" class=\"dataframe\">\n",
              "  <thead>\n",
              "    <tr style=\"text-align: right;\">\n",
              "      <th></th>\n",
              "      <th>Cidade</th>\n",
              "      <th>Populacao_2010</th>\n",
              "      <th>Populacao_2021</th>\n",
              "      <th>Microrregioes</th>\n",
              "      <th>Mesorregioes</th>\n",
              "    </tr>\n",
              "  </thead>\n",
              "  <tbody>\n",
              "    <tr>\n",
              "      <th>0</th>\n",
              "      <td>Porto Alegre</td>\n",
              "      <td>1 450 555</td>\n",
              "      <td>1 492 530</td>\n",
              "      <td>Porto Alegre</td>\n",
              "      <td>Metropolitana</td>\n",
              "    </tr>\n",
              "    <tr>\n",
              "      <th>1</th>\n",
              "      <td>Caxias do Sul</td>\n",
              "      <td>437 889</td>\n",
              "      <td>523 716</td>\n",
              "      <td>Caxias do Sul</td>\n",
              "      <td>Nordeste</td>\n",
              "    </tr>\n",
              "    <tr>\n",
              "      <th>2</th>\n",
              "      <td>Canoas</td>\n",
              "      <td>323,827</td>\n",
              "      <td>349 728</td>\n",
              "      <td>Porto Alegre</td>\n",
              "      <td>Metropolitana</td>\n",
              "    </tr>\n",
              "    <tr>\n",
              "      <th>3</th>\n",
              "      <td>Pelotas</td>\n",
              "      <td>328,275</td>\n",
              "      <td>343 826</td>\n",
              "      <td>Pelotas</td>\n",
              "      <td>Sudeste</td>\n",
              "    </tr>\n",
              "    <tr>\n",
              "      <th>4</th>\n",
              "      <td>Gravataí</td>\n",
              "      <td>255 660</td>\n",
              "      <td>285 564</td>\n",
              "      <td>Porto Alegre</td>\n",
              "      <td>Metropolitana</td>\n",
              "    </tr>\n",
              "    <tr>\n",
              "      <th>...</th>\n",
              "      <td>...</td>\n",
              "      <td>...</td>\n",
              "      <td>...</td>\n",
              "      <td>...</td>\n",
              "      <td>...</td>\n",
              "    </tr>\n",
              "    <tr>\n",
              "      <th>492</th>\n",
              "      <td>André da Rocha</td>\n",
              "      <td>1 216</td>\n",
              "      <td>1 351</td>\n",
              "      <td>Guaporé</td>\n",
              "      <td>Nordeste</td>\n",
              "    </tr>\n",
              "    <tr>\n",
              "      <th>493</th>\n",
              "      <td>Carlos Gomes</td>\n",
              "      <td>1 607</td>\n",
              "      <td>1 327</td>\n",
              "      <td>Erechim</td>\n",
              "      <td>Noroeste</td>\n",
              "    </tr>\n",
              "    <tr>\n",
              "      <th>494</th>\n",
              "      <td>Porto Vera Cruz</td>\n",
              "      <td>1 852</td>\n",
              "      <td>1 258</td>\n",
              "      <td>Santa Rosa</td>\n",
              "      <td>Noroeste</td>\n",
              "    </tr>\n",
              "    <tr>\n",
              "      <th>495</th>\n",
              "      <td>União da Serra</td>\n",
              "      <td>1 487</td>\n",
              "      <td>1 084</td>\n",
              "      <td>Guaporé</td>\n",
              "      <td>Nordeste</td>\n",
              "    </tr>\n",
              "    <tr>\n",
              "      <th>496</th>\n",
              "      <td>Engenho Velho</td>\n",
              "      <td>1 530</td>\n",
              "      <td>932</td>\n",
              "      <td>Frederico Westphalen</td>\n",
              "      <td>Noroeste</td>\n",
              "    </tr>\n",
              "  </tbody>\n",
              "</table>\n",
              "<p>497 rows × 5 columns</p>\n",
              "</div>"
            ],
            "text/plain": [
              "               Cidade Populacao_2010 Populacao_2021         Microrregioes  \\\n",
              "0        Porto Alegre      1 450 555      1 492 530          Porto Alegre   \n",
              "1       Caxias do Sul        437 889        523 716         Caxias do Sul   \n",
              "2              Canoas        323,827        349 728          Porto Alegre   \n",
              "3             Pelotas        328,275        343 826               Pelotas   \n",
              "4            Gravataí        255 660        285 564          Porto Alegre   \n",
              "..                ...            ...            ...                   ...   \n",
              "492    André da Rocha          1 216          1 351               Guaporé   \n",
              "493      Carlos Gomes          1 607          1 327               Erechim   \n",
              "494   Porto Vera Cruz          1 852          1 258            Santa Rosa   \n",
              "495    União da Serra          1 487          1 084               Guaporé   \n",
              "496     Engenho Velho          1 530            932  Frederico Westphalen   \n",
              "\n",
              "      Mesorregioes  \n",
              "0    Metropolitana  \n",
              "1         Nordeste  \n",
              "2    Metropolitana  \n",
              "3          Sudeste  \n",
              "4    Metropolitana  \n",
              "..             ...  \n",
              "492       Nordeste  \n",
              "493       Noroeste  \n",
              "494       Noroeste  \n",
              "495       Nordeste  \n",
              "496       Noroeste  \n",
              "\n",
              "[497 rows x 5 columns]"
            ]
          },
          "execution_count": 111,
          "metadata": {},
          "output_type": "execute_result"
        }
      ],
      "source": [
        "df2 = pd.DataFrame({'Cidade': cidade, 'Populacao_2010': pop_2010,\n",
        "                    'Populacao_2021': pop_2021, 'Microrregioes' : micro, \n",
        "                    'Mesorregioes' : meso})\n",
        "df2"
      ]
    },
    {
      "cell_type": "markdown",
      "metadata": {
        "id": "wbAqjTP5ixXT"
      },
      "source": [
        "# Exportando os DataFrames\n"
      ]
    },
    {
      "cell_type": "code",
      "execution_count": 20,
      "metadata": {
        "id": "HNGo_RxVj_g5"
      },
      "outputs": [
        {
          "ename": "ModuleNotFoundError",
          "evalue": "No module named 'google.colab'",
          "output_type": "error",
          "traceback": [
            "\u001b[1;31m---------------------------------------------------------------------------\u001b[0m",
            "\u001b[1;31mModuleNotFoundError\u001b[0m                       Traceback (most recent call last)",
            "\u001b[1;32md:\\Sigma\\Multiverso_greNAL\\web_scraping.ipynb Cell 23'\u001b[0m in \u001b[0;36m<cell line: 1>\u001b[1;34m()\u001b[0m\n\u001b[1;32m----> <a href='vscode-notebook-cell:/d%3A/Sigma/Multiverso_greNAL/web_scraping.ipynb#ch0000022?line=0'>1</a>\u001b[0m \u001b[39mfrom\u001b[39;00m \u001b[39mgoogle\u001b[39;00m\u001b[39m.\u001b[39;00m\u001b[39mcolab\u001b[39;00m \u001b[39mimport\u001b[39;00m files\n",
            "\u001b[1;31mModuleNotFoundError\u001b[0m: No module named 'google.colab'"
          ]
        }
      ],
      "source": [
        "#from google.colab import files"
      ]
    },
    {
      "cell_type": "code",
      "execution_count": 112,
      "metadata": {
        "colab": {
          "base_uri": "https://localhost:8080/",
          "height": 17
        },
        "id": "tAKImQhui1HZ",
        "outputId": "a74cdd76-634a-4c28-a6b4-f07821643723"
      },
      "outputs": [],
      "source": [
        "df.to_csv(r'times_gauchos.csv', index = False, header=True,encoding = 'utf-8-sig')\n",
        "df1.to_csv(r'campeonatos_gauchos.csv', index = False, header=True,encoding = 'utf-8-sig')\n",
        "df2.to_csv(r'cidades_gauchas.csv', index = False, header=True)\n",
        "#files.download('times_gauchos.csv')\n",
        "#files.download('campeonatos_gauchos.csv')"
      ]
    }
  ],
  "metadata": {
    "colab": {
      "name": "web_scraping.ipynb",
      "provenance": []
    },
    "interpreter": {
      "hash": "8d865f01d5794251ec8788722395252895cf9260f6d0494b8276217fe7cbb0cd"
    },
    "kernelspec": {
      "display_name": "Python 3.10.4 64-bit",
      "language": "python",
      "name": "python3"
    },
    "language_info": {
      "codemirror_mode": {
        "name": "ipython",
        "version": 3
      },
      "file_extension": ".py",
      "mimetype": "text/x-python",
      "name": "python",
      "nbconvert_exporter": "python",
      "pygments_lexer": "ipython3",
      "version": "3.10.4"
    }
  },
  "nbformat": 4,
  "nbformat_minor": 0
}
