{
  "nbformat": 4,
  "nbformat_minor": 0,
  "metadata": {
    "colab": {
      "name": "web_scraping.ipynb",
      "provenance": []
    },
    "kernelspec": {
      "name": "python3",
      "display_name": "Python 3"
    },
    "language_info": {
      "name": "python"
    }
  },
  "cells": [
    {
      "cell_type": "code",
      "execution_count": null,
      "metadata": {
        "id": "r-mwAC_3S8pU"
      },
      "outputs": [],
      "source": [
        "import urllib as urlr\n",
        "from bs4 import BeautifulSoup\n",
        "import pandas as pd\n",
        "import ssl\n",
        "import numpy as np"
      ]
    },
    {
      "cell_type": "markdown",
      "source": [
        "# DataFrame dos Times e suas Cidades"
      ],
      "metadata": {
        "id": "TyEvc7N3NEkc"
      }
    },
    {
      "cell_type": "code",
      "source": [
        "req = urlr.request.Request('https://bolaamarelafc.com.br/clubes/clubes-do-brasil/rio-grande-do-sul/#', headers={'User-Agent': 'Mozilla/5.0 (Macintosh; Intel Mac OS X 10_9_3) AppleWebKit/537.36 (KHTML, like Gecko) Chrome/35.0.1916.47 Safari/537.36'})\n",
        "html = urlr.request.urlopen(req)"
      ],
      "metadata": {
        "id": "bq9zWKomanr8"
      },
      "execution_count": null,
      "outputs": []
    },
    {
      "cell_type": "code",
      "source": [
        "bs = BeautifulSoup(html, 'html.parser')"
      ],
      "metadata": {
        "id": "uoLVasfkVr_r"
      },
      "execution_count": null,
      "outputs": []
    },
    {
      "cell_type": "code",
      "source": [
        "linhas = bs.find_all('p', {'style':'text-align: center;'})\n",
        "linhas.pop(-1)"
      ],
      "metadata": {
        "colab": {
          "base_uri": "https://localhost:8080/"
        },
        "id": "4wD6j74TW11E",
        "outputId": "afad9fe1-a349-4212-afee-c3447aab9de3"
      },
      "execution_count": null,
      "outputs": [
        {
          "output_type": "execute_result",
          "data": {
            "text/plain": [
              "<p style=\"text-align: center;\"><img alt=\"\" src=\"https://i0.wp.com/bolaamarelafc.com.br/wp-content/uploads/2020/05/1_escudo_oficial_plastico.png?fit=300%2C300&amp;ssl=1\" style=\"\"/></p>"
            ]
          },
          "metadata": {},
          "execution_count": 4
        }
      ]
    },
    {
      "cell_type": "code",
      "source": [
        "apelido = []\n",
        "nome = []\n",
        "cidade = []\n",
        "funda = []"
      ],
      "metadata": {
        "id": "k5ATaF0gobuq"
      },
      "execution_count": null,
      "outputs": []
    },
    {
      "cell_type": "code",
      "source": [
        "for i in linhas:\n",
        "  time = i.get_text(strip=True, separator='\\n').splitlines()\n",
        "  apelido.append(time[0])\n",
        "  nome.append(time[1])\n",
        "  cidade.append(time[2])\n",
        "  funda.append(time[3])\n"
      ],
      "metadata": {
        "id": "PW2Lu7lsgS3T"
      },
      "execution_count": null,
      "outputs": []
    },
    {
      "cell_type": "code",
      "source": [
        "funda = list(map(lambda x: x.replace(\"Fundação: \",\"\") ,funda))\n",
        "cidade = list(map(lambda x: x.replace(\"Município: \",\"\") ,cidade))\n",
        "#funda.replace(\"Fundação: \", \"\")"
      ],
      "metadata": {
        "id": "-j39OAi5rRYQ"
      },
      "execution_count": null,
      "outputs": []
    },
    {
      "cell_type": "code",
      "source": [
        "df = pd.DataFrame({'Apelido': apelido, 'Nome': nome, 'Cidade': cidade, 'Fundação': funda})\n",
        "df"
      ],
      "metadata": {
        "id": "P9gZEDMnptCS",
        "colab": {
          "base_uri": "https://localhost:8080/",
          "height": 424
        },
        "outputId": "71fc4777-eb9f-475e-ee2b-e809acf983f0"
      },
      "execution_count": null,
      "outputs": [
        {
          "output_type": "execute_result",
          "data": {
            "text/plain": [
              "                       Apelido  \\\n",
              "0                     12 Horas   \n",
              "1   14 de Julho de Passo Fundo   \n",
              "2              15 de Campo Bom   \n",
              "3                       Aimoré   \n",
              "4                    Americano   \n",
              "..                         ...   \n",
              "66                        Tupi   \n",
              "67         União Frederiquense   \n",
              "68              União Harmonia   \n",
              "69                 Veranópolis   \n",
              "70                    Ypiranga   \n",
              "\n",
              "                                               Nome                Cidade  \\\n",
              "0                            Esporte Clube 12 Horas          Porto Alegre   \n",
              "1         Grêmio Esportivo e Recreativo 14 de Julho           Passo Fundo   \n",
              "2                              Clube 15 de Novembro             Campo Bom   \n",
              "3                            Clube Esportivo Aimoré          São Leopoldo   \n",
              "4                              Sport Club Americano          Porto Alegre   \n",
              "..                                              ...                   ...   \n",
              "66                               Tupi Futebol Clube            Crissiumal   \n",
              "67                   União Frederiquense de Futebol  Frederico Westphalen   \n",
              "68                     União Harmonia Futebol Clube                Canoas   \n",
              "69  Veranópolis Esporte Clube Recreativo e Cultural           Veranópolis   \n",
              "70                           Ypiranga Futebol Clube               Erechim   \n",
              "\n",
              "      Fundação  \n",
              "0   14/08/2001  \n",
              "1   27/06/1921  \n",
              "2   15/11/1911  \n",
              "3   26/03/1936  \n",
              "4   04/07/1912  \n",
              "..         ...  \n",
              "66  01/05/1949  \n",
              "67  03/08/2010  \n",
              "68  23/05/1954  \n",
              "69  15/01/1992  \n",
              "70  18/08/1924  \n",
              "\n",
              "[71 rows x 4 columns]"
            ],
            "text/html": [
              "\n",
              "  <div id=\"df-e69fe6fd-36ff-473e-bba4-e563692c9693\">\n",
              "    <div class=\"colab-df-container\">\n",
              "      <div>\n",
              "<style scoped>\n",
              "    .dataframe tbody tr th:only-of-type {\n",
              "        vertical-align: middle;\n",
              "    }\n",
              "\n",
              "    .dataframe tbody tr th {\n",
              "        vertical-align: top;\n",
              "    }\n",
              "\n",
              "    .dataframe thead th {\n",
              "        text-align: right;\n",
              "    }\n",
              "</style>\n",
              "<table border=\"1\" class=\"dataframe\">\n",
              "  <thead>\n",
              "    <tr style=\"text-align: right;\">\n",
              "      <th></th>\n",
              "      <th>Apelido</th>\n",
              "      <th>Nome</th>\n",
              "      <th>Cidade</th>\n",
              "      <th>Fundação</th>\n",
              "    </tr>\n",
              "  </thead>\n",
              "  <tbody>\n",
              "    <tr>\n",
              "      <th>0</th>\n",
              "      <td>12 Horas</td>\n",
              "      <td>Esporte Clube 12 Horas</td>\n",
              "      <td>Porto Alegre</td>\n",
              "      <td>14/08/2001</td>\n",
              "    </tr>\n",
              "    <tr>\n",
              "      <th>1</th>\n",
              "      <td>14 de Julho de Passo Fundo</td>\n",
              "      <td>Grêmio Esportivo e Recreativo 14 de Julho</td>\n",
              "      <td>Passo Fundo</td>\n",
              "      <td>27/06/1921</td>\n",
              "    </tr>\n",
              "    <tr>\n",
              "      <th>2</th>\n",
              "      <td>15 de Campo Bom</td>\n",
              "      <td>Clube 15 de Novembro</td>\n",
              "      <td>Campo Bom</td>\n",
              "      <td>15/11/1911</td>\n",
              "    </tr>\n",
              "    <tr>\n",
              "      <th>3</th>\n",
              "      <td>Aimoré</td>\n",
              "      <td>Clube Esportivo Aimoré</td>\n",
              "      <td>São Leopoldo</td>\n",
              "      <td>26/03/1936</td>\n",
              "    </tr>\n",
              "    <tr>\n",
              "      <th>4</th>\n",
              "      <td>Americano</td>\n",
              "      <td>Sport Club Americano</td>\n",
              "      <td>Porto Alegre</td>\n",
              "      <td>04/07/1912</td>\n",
              "    </tr>\n",
              "    <tr>\n",
              "      <th>...</th>\n",
              "      <td>...</td>\n",
              "      <td>...</td>\n",
              "      <td>...</td>\n",
              "      <td>...</td>\n",
              "    </tr>\n",
              "    <tr>\n",
              "      <th>66</th>\n",
              "      <td>Tupi</td>\n",
              "      <td>Tupi Futebol Clube</td>\n",
              "      <td>Crissiumal</td>\n",
              "      <td>01/05/1949</td>\n",
              "    </tr>\n",
              "    <tr>\n",
              "      <th>67</th>\n",
              "      <td>União Frederiquense</td>\n",
              "      <td>União Frederiquense de Futebol</td>\n",
              "      <td>Frederico Westphalen</td>\n",
              "      <td>03/08/2010</td>\n",
              "    </tr>\n",
              "    <tr>\n",
              "      <th>68</th>\n",
              "      <td>União Harmonia</td>\n",
              "      <td>União Harmonia Futebol Clube</td>\n",
              "      <td>Canoas</td>\n",
              "      <td>23/05/1954</td>\n",
              "    </tr>\n",
              "    <tr>\n",
              "      <th>69</th>\n",
              "      <td>Veranópolis</td>\n",
              "      <td>Veranópolis Esporte Clube Recreativo e Cultural</td>\n",
              "      <td>Veranópolis</td>\n",
              "      <td>15/01/1992</td>\n",
              "    </tr>\n",
              "    <tr>\n",
              "      <th>70</th>\n",
              "      <td>Ypiranga</td>\n",
              "      <td>Ypiranga Futebol Clube</td>\n",
              "      <td>Erechim</td>\n",
              "      <td>18/08/1924</td>\n",
              "    </tr>\n",
              "  </tbody>\n",
              "</table>\n",
              "<p>71 rows × 4 columns</p>\n",
              "</div>\n",
              "      <button class=\"colab-df-convert\" onclick=\"convertToInteractive('df-e69fe6fd-36ff-473e-bba4-e563692c9693')\"\n",
              "              title=\"Convert this dataframe to an interactive table.\"\n",
              "              style=\"display:none;\">\n",
              "        \n",
              "  <svg xmlns=\"http://www.w3.org/2000/svg\" height=\"24px\"viewBox=\"0 0 24 24\"\n",
              "       width=\"24px\">\n",
              "    <path d=\"M0 0h24v24H0V0z\" fill=\"none\"/>\n",
              "    <path d=\"M18.56 5.44l.94 2.06.94-2.06 2.06-.94-2.06-.94-.94-2.06-.94 2.06-2.06.94zm-11 1L8.5 8.5l.94-2.06 2.06-.94-2.06-.94L8.5 2.5l-.94 2.06-2.06.94zm10 10l.94 2.06.94-2.06 2.06-.94-2.06-.94-.94-2.06-.94 2.06-2.06.94z\"/><path d=\"M17.41 7.96l-1.37-1.37c-.4-.4-.92-.59-1.43-.59-.52 0-1.04.2-1.43.59L10.3 9.45l-7.72 7.72c-.78.78-.78 2.05 0 2.83L4 21.41c.39.39.9.59 1.41.59.51 0 1.02-.2 1.41-.59l7.78-7.78 2.81-2.81c.8-.78.8-2.07 0-2.86zM5.41 20L4 18.59l7.72-7.72 1.47 1.35L5.41 20z\"/>\n",
              "  </svg>\n",
              "      </button>\n",
              "      \n",
              "  <style>\n",
              "    .colab-df-container {\n",
              "      display:flex;\n",
              "      flex-wrap:wrap;\n",
              "      gap: 12px;\n",
              "    }\n",
              "\n",
              "    .colab-df-convert {\n",
              "      background-color: #E8F0FE;\n",
              "      border: none;\n",
              "      border-radius: 50%;\n",
              "      cursor: pointer;\n",
              "      display: none;\n",
              "      fill: #1967D2;\n",
              "      height: 32px;\n",
              "      padding: 0 0 0 0;\n",
              "      width: 32px;\n",
              "    }\n",
              "\n",
              "    .colab-df-convert:hover {\n",
              "      background-color: #E2EBFA;\n",
              "      box-shadow: 0px 1px 2px rgba(60, 64, 67, 0.3), 0px 1px 3px 1px rgba(60, 64, 67, 0.15);\n",
              "      fill: #174EA6;\n",
              "    }\n",
              "\n",
              "    [theme=dark] .colab-df-convert {\n",
              "      background-color: #3B4455;\n",
              "      fill: #D2E3FC;\n",
              "    }\n",
              "\n",
              "    [theme=dark] .colab-df-convert:hover {\n",
              "      background-color: #434B5C;\n",
              "      box-shadow: 0px 1px 3px 1px rgba(0, 0, 0, 0.15);\n",
              "      filter: drop-shadow(0px 1px 2px rgba(0, 0, 0, 0.3));\n",
              "      fill: #FFFFFF;\n",
              "    }\n",
              "  </style>\n",
              "\n",
              "      <script>\n",
              "        const buttonEl =\n",
              "          document.querySelector('#df-e69fe6fd-36ff-473e-bba4-e563692c9693 button.colab-df-convert');\n",
              "        buttonEl.style.display =\n",
              "          google.colab.kernel.accessAllowed ? 'block' : 'none';\n",
              "\n",
              "        async function convertToInteractive(key) {\n",
              "          const element = document.querySelector('#df-e69fe6fd-36ff-473e-bba4-e563692c9693');\n",
              "          const dataTable =\n",
              "            await google.colab.kernel.invokeFunction('convertToInteractive',\n",
              "                                                     [key], {});\n",
              "          if (!dataTable) return;\n",
              "\n",
              "          const docLinkHtml = 'Like what you see? Visit the ' +\n",
              "            '<a target=\"_blank\" href=https://colab.research.google.com/notebooks/data_table.ipynb>data table notebook</a>'\n",
              "            + ' to learn more about interactive tables.';\n",
              "          element.innerHTML = '';\n",
              "          dataTable['output_type'] = 'display_data';\n",
              "          await google.colab.output.renderOutput(dataTable, element);\n",
              "          const docLink = document.createElement('div');\n",
              "          docLink.innerHTML = docLinkHtml;\n",
              "          element.appendChild(docLink);\n",
              "        }\n",
              "      </script>\n",
              "    </div>\n",
              "  </div>\n",
              "  "
            ]
          },
          "metadata": {},
          "execution_count": 8
        }
      ]
    },
    {
      "cell_type": "markdown",
      "source": [
        "# DataFrame dos campeões"
      ],
      "metadata": {
        "id": "U1iIXKfANNZl"
      }
    },
    {
      "cell_type": "code",
      "source": [
        "context = ssl._create_unverified_context()\n",
        "url = 'https://pt.wikipedia.org/'\n",
        "path = urlr.parse.quote('wiki/Campeonato_Gaúcho_de_Futebol')\n",
        "page = urlr.request.urlopen(url + path, context=context)"
      ],
      "metadata": {
        "id": "S8aK1wsiNQF9"
      },
      "execution_count": null,
      "outputs": []
    },
    {
      "cell_type": "code",
      "source": [
        "bs1 = BeautifulSoup(page, 'html.parser')"
      ],
      "metadata": {
        "id": "hm_EUf9pS_PR"
      },
      "execution_count": null,
      "outputs": []
    },
    {
      "cell_type": "code",
      "source": [
        "table = bs1.find_all('table', {'style':'width:80%; font-size:90%'})"
      ],
      "metadata": {
        "id": "kXQI4rLbUF6V"
      },
      "execution_count": null,
      "outputs": []
    },
    {
      "cell_type": "code",
      "source": [
        "table1 = table[1]\n",
        "table0 = table[0]"
      ],
      "metadata": {
        "id": "qcGMwfLbUpdl"
      },
      "execution_count": null,
      "outputs": []
    },
    {
      "cell_type": "code",
      "source": [
        "table_body = table1.find('tbody')\n",
        "rows = table_body.find_all('tr')\n",
        "table_body0 = table0.find('tbody')\n",
        "rows0 = table_body0.find_all('tr')\n"
      ],
      "metadata": {
        "id": "k2YDa99kU5s3"
      },
      "execution_count": null,
      "outputs": []
    },
    {
      "cell_type": "code",
      "source": [
        "rows.pop(0)"
      ],
      "metadata": {
        "colab": {
          "base_uri": "https://localhost:8080/"
        },
        "id": "TDHVmbF5cich",
        "outputId": "7083b171-f494-456c-de92-5d48649c05dc"
      },
      "execution_count": null,
      "outputs": [
        {
          "output_type": "execute_result",
          "data": {
            "text/plain": [
              "<tr>\n",
              "<th width=\"3%\">Edição\n",
              "</th>\n",
              "<th width=\"5%\">Ano\n",
              "</th>\n",
              "<th width=\"21%\">Campeão\n",
              "</th>\n",
              "<th width=\"21%\">Vice-campeão\n",
              "</th>\n",
              "<th width=\"21%\">Terceiro colocado\n",
              "</th>\n",
              "<th width=\"21%\">Quarto colocado\n",
              "</th>\n",
              "<th width=\"21%\">Artilheiro(s)\n",
              "</th>\n",
              "<th width=\"3%\">Gols\n",
              "</th></tr>"
            ]
          },
          "metadata": {},
          "execution_count": 14
        }
      ]
    },
    {
      "cell_type": "code",
      "source": [
        "rows0.pop(0)\n"
      ],
      "metadata": {
        "colab": {
          "base_uri": "https://localhost:8080/"
        },
        "id": "KCPCGl12gVHO",
        "outputId": "d0cf948a-9519-477f-b8e2-820a4f7860b5"
      },
      "execution_count": null,
      "outputs": [
        {
          "output_type": "execute_result",
          "data": {
            "text/plain": [
              "<tr>\n",
              "<th width=\"3%\">Edição\n",
              "</th>\n",
              "<th width=\"5%\">Ano\n",
              "</th>\n",
              "<th width=\"21%\">Campeão\n",
              "</th>\n",
              "<th width=\"21%\">Vice-campeão\n",
              "</th>\n",
              "<th width=\"21%\">Terceiro colocado\n",
              "</th>\n",
              "<th width=\"21%\">Quarto colocado\n",
              "</th>\n",
              "<th width=\"21%\">Artilheiro(s)\n",
              "</th>\n",
              "<th width=\"3%\">Gols\n",
              "</th></tr>"
            ]
          },
          "metadata": {},
          "execution_count": 15
        }
      ]
    },
    {
      "cell_type": "code",
      "source": [
        "del rows0[4:6]"
      ],
      "metadata": {
        "id": "V8La47wNjUo6"
      },
      "execution_count": null,
      "outputs": []
    },
    {
      "cell_type": "code",
      "source": [
        "edicao = []\n",
        "ano = []\n",
        "primeiro = []\n",
        "segundo = []\n",
        "terceiro = []\n",
        "quarto = []\n",
        "artilheiro = []\n",
        "gols = []\n"
      ],
      "metadata": {
        "id": "J0yAmZSmWS4q"
      },
      "execution_count": null,
      "outputs": []
    },
    {
      "cell_type": "code",
      "source": [
        "for i in rows0:\n",
        "  time = i.get_text().splitlines()\n",
        "  edicao.append(time[1])\n",
        "  ano.append(time[3])\n",
        "  primeiro.append(time[5])\n",
        "  segundo.append(time[7])\n",
        "  terceiro.append(time[9])\n",
        "  quarto.append(time[11])\n",
        "  artilheiro.append(time[13])\n",
        "  gols.append(time[15])\n",
        "\n",
        "for i in rows:\n",
        "  time = i.get_text().splitlines()\n",
        "  edicao.append(time[1])\n",
        "  ano.append(time[3])\n",
        "  primeiro.append(time[5])\n",
        "  segundo.append(time[7])\n",
        "  terceiro.append(time[9])\n",
        "  quarto.append(time[11])\n",
        "  artilheiro.append(time[13])\n",
        "  gols.append(time[15])"
      ],
      "metadata": {
        "id": "O2GtmCO7XXLD"
      },
      "execution_count": null,
      "outputs": []
    },
    {
      "cell_type": "code",
      "source": [
        "df1 = pd.DataFrame({'Edicao': edicao, 'Ano': ano, 'Primeiro': primeiro,\n",
        "                    'Segundo': segundo, 'Terceiro': terceiro, 'Quarto': quarto,\n",
        "                    'Artilheiro' : artilheiro, 'N_de_gols' : gols})\n",
        "df1"
      ],
      "metadata": {
        "colab": {
          "base_uri": "https://localhost:8080/",
          "height": 424
        },
        "id": "0Y1kEPW1jnqz",
        "outputId": "79456e82-609b-4307-be04-761205de4627"
      },
      "execution_count": null,
      "outputs": [
        {
          "output_type": "execute_result",
          "data": {
            "text/plain": [
              "    Edicao             Ano                Primeiro               Segundo  \\\n",
              "0       1ª  1919(detalhes)   Brasil de Pelotas (1)                Grêmio   \n",
              "1       2ª  1920(detalhes)     Guarany de Bagé (1)                Grêmio   \n",
              "2       3ª  1921(detalhes)             Grêmio  (1)          Riograndense   \n",
              "3       4ª  1922(detalhes)              Grêmio (2)   Guarani de Alegrete   \n",
              "4       5ª  1925(detalhes)                Bagé (1)                Grêmio   \n",
              "..     ...             ...                     ...                   ...   \n",
              "97     98ª  2018(detalhes)             Grêmio (37)     Brasil de Pelotas   \n",
              "98     99ª  2019(detalhes)            Grêmio  (38)         Internacional   \n",
              "99    100ª  2020(detalhes)             Grêmio (39)                Caxias   \n",
              "100   101ª  2021(detalhes)             Grêmio (40)         Internacional   \n",
              "101   102ª  2022(detalhes)             Grêmio (41)   Ypiranga de Erechim   \n",
              "\n",
              "                  Terceiro              Quarto  \\\n",
              "0                        —                   —   \n",
              "1               Uruguaiana                   —   \n",
              "2        Brasil de Pelotas          Uruguaiana   \n",
              "3     Guarany de Cruz Alta                Bagé   \n",
              "4     Guarany de Cruz Alta   Grêmio Santanense   \n",
              "..                     ...                 ...   \n",
              "97             São José-RS             Avenida   \n",
              "98                  Caxias            São Luiz   \n",
              "99           Internacional           Esportivo   \n",
              "100              Juventude              Caxias   \n",
              "101          Internacional   Brasil de Pelotas   \n",
              "\n",
              "                              Artilheiro N_de_gols  \n",
              "0               ProençaBrasil de Pelotas         3  \n",
              "1                  GreccoGuarany de Bagé         2  \n",
              "2                   MosquitoRiograndense         3  \n",
              "3                          LagartoGrêmio         5  \n",
              "4                         PascoalitoBagé         ?  \n",
              "..                                   ...       ...  \n",
              "97                      Michel  São Luiz         8  \n",
              "98   Marcão/Rafael Gava São Luiz/Caxias          6  \n",
              "99                    Diego Souza Grêmio         9  \n",
              "100                   Diego Souza Grêmio         7  \n",
              "101             ErickYpiranga de Erechim         6  \n",
              "\n",
              "[102 rows x 8 columns]"
            ],
            "text/html": [
              "\n",
              "  <div id=\"df-5fe681e3-24df-4559-aefc-3be66c5aa97a\">\n",
              "    <div class=\"colab-df-container\">\n",
              "      <div>\n",
              "<style scoped>\n",
              "    .dataframe tbody tr th:only-of-type {\n",
              "        vertical-align: middle;\n",
              "    }\n",
              "\n",
              "    .dataframe tbody tr th {\n",
              "        vertical-align: top;\n",
              "    }\n",
              "\n",
              "    .dataframe thead th {\n",
              "        text-align: right;\n",
              "    }\n",
              "</style>\n",
              "<table border=\"1\" class=\"dataframe\">\n",
              "  <thead>\n",
              "    <tr style=\"text-align: right;\">\n",
              "      <th></th>\n",
              "      <th>Edicao</th>\n",
              "      <th>Ano</th>\n",
              "      <th>Primeiro</th>\n",
              "      <th>Segundo</th>\n",
              "      <th>Terceiro</th>\n",
              "      <th>Quarto</th>\n",
              "      <th>Artilheiro</th>\n",
              "      <th>N_de_gols</th>\n",
              "    </tr>\n",
              "  </thead>\n",
              "  <tbody>\n",
              "    <tr>\n",
              "      <th>0</th>\n",
              "      <td>1ª</td>\n",
              "      <td>1919(detalhes)</td>\n",
              "      <td>Brasil de Pelotas (1)</td>\n",
              "      <td>Grêmio</td>\n",
              "      <td>—</td>\n",
              "      <td>—</td>\n",
              "      <td>ProençaBrasil de Pelotas</td>\n",
              "      <td>3</td>\n",
              "    </tr>\n",
              "    <tr>\n",
              "      <th>1</th>\n",
              "      <td>2ª</td>\n",
              "      <td>1920(detalhes)</td>\n",
              "      <td>Guarany de Bagé (1)</td>\n",
              "      <td>Grêmio</td>\n",
              "      <td>Uruguaiana</td>\n",
              "      <td>—</td>\n",
              "      <td>GreccoGuarany de Bagé</td>\n",
              "      <td>2</td>\n",
              "    </tr>\n",
              "    <tr>\n",
              "      <th>2</th>\n",
              "      <td>3ª</td>\n",
              "      <td>1921(detalhes)</td>\n",
              "      <td>Grêmio  (1)</td>\n",
              "      <td>Riograndense</td>\n",
              "      <td>Brasil de Pelotas</td>\n",
              "      <td>Uruguaiana</td>\n",
              "      <td>MosquitoRiograndense</td>\n",
              "      <td>3</td>\n",
              "    </tr>\n",
              "    <tr>\n",
              "      <th>3</th>\n",
              "      <td>4ª</td>\n",
              "      <td>1922(detalhes)</td>\n",
              "      <td>Grêmio (2)</td>\n",
              "      <td>Guarani de Alegrete</td>\n",
              "      <td>Guarany de Cruz Alta</td>\n",
              "      <td>Bagé</td>\n",
              "      <td>LagartoGrêmio</td>\n",
              "      <td>5</td>\n",
              "    </tr>\n",
              "    <tr>\n",
              "      <th>4</th>\n",
              "      <td>5ª</td>\n",
              "      <td>1925(detalhes)</td>\n",
              "      <td>Bagé (1)</td>\n",
              "      <td>Grêmio</td>\n",
              "      <td>Guarany de Cruz Alta</td>\n",
              "      <td>Grêmio Santanense</td>\n",
              "      <td>PascoalitoBagé</td>\n",
              "      <td>?</td>\n",
              "    </tr>\n",
              "    <tr>\n",
              "      <th>...</th>\n",
              "      <td>...</td>\n",
              "      <td>...</td>\n",
              "      <td>...</td>\n",
              "      <td>...</td>\n",
              "      <td>...</td>\n",
              "      <td>...</td>\n",
              "      <td>...</td>\n",
              "      <td>...</td>\n",
              "    </tr>\n",
              "    <tr>\n",
              "      <th>97</th>\n",
              "      <td>98ª</td>\n",
              "      <td>2018(detalhes)</td>\n",
              "      <td>Grêmio (37)</td>\n",
              "      <td>Brasil de Pelotas</td>\n",
              "      <td>São José-RS</td>\n",
              "      <td>Avenida</td>\n",
              "      <td>Michel  São Luiz</td>\n",
              "      <td>8</td>\n",
              "    </tr>\n",
              "    <tr>\n",
              "      <th>98</th>\n",
              "      <td>99ª</td>\n",
              "      <td>2019(detalhes)</td>\n",
              "      <td>Grêmio  (38)</td>\n",
              "      <td>Internacional</td>\n",
              "      <td>Caxias</td>\n",
              "      <td>São Luiz</td>\n",
              "      <td>Marcão/Rafael Gava São Luiz/Caxias</td>\n",
              "      <td>6</td>\n",
              "    </tr>\n",
              "    <tr>\n",
              "      <th>99</th>\n",
              "      <td>100ª</td>\n",
              "      <td>2020(detalhes)</td>\n",
              "      <td>Grêmio (39)</td>\n",
              "      <td>Caxias</td>\n",
              "      <td>Internacional</td>\n",
              "      <td>Esportivo</td>\n",
              "      <td>Diego Souza Grêmio</td>\n",
              "      <td>9</td>\n",
              "    </tr>\n",
              "    <tr>\n",
              "      <th>100</th>\n",
              "      <td>101ª</td>\n",
              "      <td>2021(detalhes)</td>\n",
              "      <td>Grêmio (40)</td>\n",
              "      <td>Internacional</td>\n",
              "      <td>Juventude</td>\n",
              "      <td>Caxias</td>\n",
              "      <td>Diego Souza Grêmio</td>\n",
              "      <td>7</td>\n",
              "    </tr>\n",
              "    <tr>\n",
              "      <th>101</th>\n",
              "      <td>102ª</td>\n",
              "      <td>2022(detalhes)</td>\n",
              "      <td>Grêmio (41)</td>\n",
              "      <td>Ypiranga de Erechim</td>\n",
              "      <td>Internacional</td>\n",
              "      <td>Brasil de Pelotas</td>\n",
              "      <td>ErickYpiranga de Erechim</td>\n",
              "      <td>6</td>\n",
              "    </tr>\n",
              "  </tbody>\n",
              "</table>\n",
              "<p>102 rows × 8 columns</p>\n",
              "</div>\n",
              "      <button class=\"colab-df-convert\" onclick=\"convertToInteractive('df-5fe681e3-24df-4559-aefc-3be66c5aa97a')\"\n",
              "              title=\"Convert this dataframe to an interactive table.\"\n",
              "              style=\"display:none;\">\n",
              "        \n",
              "  <svg xmlns=\"http://www.w3.org/2000/svg\" height=\"24px\"viewBox=\"0 0 24 24\"\n",
              "       width=\"24px\">\n",
              "    <path d=\"M0 0h24v24H0V0z\" fill=\"none\"/>\n",
              "    <path d=\"M18.56 5.44l.94 2.06.94-2.06 2.06-.94-2.06-.94-.94-2.06-.94 2.06-2.06.94zm-11 1L8.5 8.5l.94-2.06 2.06-.94-2.06-.94L8.5 2.5l-.94 2.06-2.06.94zm10 10l.94 2.06.94-2.06 2.06-.94-2.06-.94-.94-2.06-.94 2.06-2.06.94z\"/><path d=\"M17.41 7.96l-1.37-1.37c-.4-.4-.92-.59-1.43-.59-.52 0-1.04.2-1.43.59L10.3 9.45l-7.72 7.72c-.78.78-.78 2.05 0 2.83L4 21.41c.39.39.9.59 1.41.59.51 0 1.02-.2 1.41-.59l7.78-7.78 2.81-2.81c.8-.78.8-2.07 0-2.86zM5.41 20L4 18.59l7.72-7.72 1.47 1.35L5.41 20z\"/>\n",
              "  </svg>\n",
              "      </button>\n",
              "      \n",
              "  <style>\n",
              "    .colab-df-container {\n",
              "      display:flex;\n",
              "      flex-wrap:wrap;\n",
              "      gap: 12px;\n",
              "    }\n",
              "\n",
              "    .colab-df-convert {\n",
              "      background-color: #E8F0FE;\n",
              "      border: none;\n",
              "      border-radius: 50%;\n",
              "      cursor: pointer;\n",
              "      display: none;\n",
              "      fill: #1967D2;\n",
              "      height: 32px;\n",
              "      padding: 0 0 0 0;\n",
              "      width: 32px;\n",
              "    }\n",
              "\n",
              "    .colab-df-convert:hover {\n",
              "      background-color: #E2EBFA;\n",
              "      box-shadow: 0px 1px 2px rgba(60, 64, 67, 0.3), 0px 1px 3px 1px rgba(60, 64, 67, 0.15);\n",
              "      fill: #174EA6;\n",
              "    }\n",
              "\n",
              "    [theme=dark] .colab-df-convert {\n",
              "      background-color: #3B4455;\n",
              "      fill: #D2E3FC;\n",
              "    }\n",
              "\n",
              "    [theme=dark] .colab-df-convert:hover {\n",
              "      background-color: #434B5C;\n",
              "      box-shadow: 0px 1px 3px 1px rgba(0, 0, 0, 0.15);\n",
              "      filter: drop-shadow(0px 1px 2px rgba(0, 0, 0, 0.3));\n",
              "      fill: #FFFFFF;\n",
              "    }\n",
              "  </style>\n",
              "\n",
              "      <script>\n",
              "        const buttonEl =\n",
              "          document.querySelector('#df-5fe681e3-24df-4559-aefc-3be66c5aa97a button.colab-df-convert');\n",
              "        buttonEl.style.display =\n",
              "          google.colab.kernel.accessAllowed ? 'block' : 'none';\n",
              "\n",
              "        async function convertToInteractive(key) {\n",
              "          const element = document.querySelector('#df-5fe681e3-24df-4559-aefc-3be66c5aa97a');\n",
              "          const dataTable =\n",
              "            await google.colab.kernel.invokeFunction('convertToInteractive',\n",
              "                                                     [key], {});\n",
              "          if (!dataTable) return;\n",
              "\n",
              "          const docLinkHtml = 'Like what you see? Visit the ' +\n",
              "            '<a target=\"_blank\" href=https://colab.research.google.com/notebooks/data_table.ipynb>data table notebook</a>'\n",
              "            + ' to learn more about interactive tables.';\n",
              "          element.innerHTML = '';\n",
              "          dataTable['output_type'] = 'display_data';\n",
              "          await google.colab.output.renderOutput(dataTable, element);\n",
              "          const docLink = document.createElement('div');\n",
              "          docLink.innerHTML = docLinkHtml;\n",
              "          element.appendChild(docLink);\n",
              "        }\n",
              "      </script>\n",
              "    </div>\n",
              "  </div>\n",
              "  "
            ]
          },
          "metadata": {},
          "execution_count": 19
        }
      ]
    },
    {
      "cell_type": "markdown",
      "source": [
        "# Exportando os DataFrames\n"
      ],
      "metadata": {
        "id": "wbAqjTP5ixXT"
      }
    },
    {
      "cell_type": "code",
      "source": [
        "from google.colab import files"
      ],
      "metadata": {
        "id": "HNGo_RxVj_g5"
      },
      "execution_count": null,
      "outputs": []
    },
    {
      "cell_type": "code",
      "source": [
        "df.to_csv(r'times_gauchos.csv', index = False, header=True,encoding = 'utf-8-sig')\n",
        "df1.to_csv(r'campeonatos_gauchos.csv', index = False, header=True,encoding = 'utf-8-sig')\n",
        "files.download('times_gauchos.csv')\n",
        "files.download('campeonatos_gauchos.csv')"
      ],
      "metadata": {
        "colab": {
          "base_uri": "https://localhost:8080/",
          "height": 17
        },
        "id": "tAKImQhui1HZ",
        "outputId": "a74cdd76-634a-4c28-a6b4-f07821643723"
      },
      "execution_count": null,
      "outputs": [
        {
          "output_type": "display_data",
          "data": {
            "text/plain": [
              "<IPython.core.display.Javascript object>"
            ],
            "application/javascript": [
              "\n",
              "    async function download(id, filename, size) {\n",
              "      if (!google.colab.kernel.accessAllowed) {\n",
              "        return;\n",
              "      }\n",
              "      const div = document.createElement('div');\n",
              "      const label = document.createElement('label');\n",
              "      label.textContent = `Downloading \"${filename}\": `;\n",
              "      div.appendChild(label);\n",
              "      const progress = document.createElement('progress');\n",
              "      progress.max = size;\n",
              "      div.appendChild(progress);\n",
              "      document.body.appendChild(div);\n",
              "\n",
              "      const buffers = [];\n",
              "      let downloaded = 0;\n",
              "\n",
              "      const channel = await google.colab.kernel.comms.open(id);\n",
              "      // Send a message to notify the kernel that we're ready.\n",
              "      channel.send({})\n",
              "\n",
              "      for await (const message of channel.messages) {\n",
              "        // Send a message to notify the kernel that we're ready.\n",
              "        channel.send({})\n",
              "        if (message.buffers) {\n",
              "          for (const buffer of message.buffers) {\n",
              "            buffers.push(buffer);\n",
              "            downloaded += buffer.byteLength;\n",
              "            progress.value = downloaded;\n",
              "          }\n",
              "        }\n",
              "      }\n",
              "      const blob = new Blob(buffers, {type: 'application/binary'});\n",
              "      const a = document.createElement('a');\n",
              "      a.href = window.URL.createObjectURL(blob);\n",
              "      a.download = filename;\n",
              "      div.appendChild(a);\n",
              "      a.click();\n",
              "      div.remove();\n",
              "    }\n",
              "  "
            ]
          },
          "metadata": {}
        },
        {
          "output_type": "display_data",
          "data": {
            "text/plain": [
              "<IPython.core.display.Javascript object>"
            ],
            "application/javascript": [
              "download(\"download_087b3ac0-b3af-485c-98f7-96b92bea8c27\", \"times_gauchos.csv\", 4552)"
            ]
          },
          "metadata": {}
        },
        {
          "output_type": "display_data",
          "data": {
            "text/plain": [
              "<IPython.core.display.Javascript object>"
            ],
            "application/javascript": [
              "\n",
              "    async function download(id, filename, size) {\n",
              "      if (!google.colab.kernel.accessAllowed) {\n",
              "        return;\n",
              "      }\n",
              "      const div = document.createElement('div');\n",
              "      const label = document.createElement('label');\n",
              "      label.textContent = `Downloading \"${filename}\": `;\n",
              "      div.appendChild(label);\n",
              "      const progress = document.createElement('progress');\n",
              "      progress.max = size;\n",
              "      div.appendChild(progress);\n",
              "      document.body.appendChild(div);\n",
              "\n",
              "      const buffers = [];\n",
              "      let downloaded = 0;\n",
              "\n",
              "      const channel = await google.colab.kernel.comms.open(id);\n",
              "      // Send a message to notify the kernel that we're ready.\n",
              "      channel.send({})\n",
              "\n",
              "      for await (const message of channel.messages) {\n",
              "        // Send a message to notify the kernel that we're ready.\n",
              "        channel.send({})\n",
              "        if (message.buffers) {\n",
              "          for (const buffer of message.buffers) {\n",
              "            buffers.push(buffer);\n",
              "            downloaded += buffer.byteLength;\n",
              "            progress.value = downloaded;\n",
              "          }\n",
              "        }\n",
              "      }\n",
              "      const blob = new Blob(buffers, {type: 'application/binary'});\n",
              "      const a = document.createElement('a');\n",
              "      a.href = window.URL.createObjectURL(blob);\n",
              "      a.download = filename;\n",
              "      div.appendChild(a);\n",
              "      a.click();\n",
              "      div.remove();\n",
              "    }\n",
              "  "
            ]
          },
          "metadata": {}
        },
        {
          "output_type": "display_data",
          "data": {
            "text/plain": [
              "<IPython.core.display.Javascript object>"
            ],
            "application/javascript": [
              "download(\"download_c6b17028-d96d-4e10-8395-71c87028e595\", \"campeonatos_gauchos.csv\", 10754)"
            ]
          },
          "metadata": {}
        }
      ]
    }
  ]
}